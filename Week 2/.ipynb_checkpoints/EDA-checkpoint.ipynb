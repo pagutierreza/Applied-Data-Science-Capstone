{
 "cells": [
  {
   "cell_type": "markdown",
   "metadata": {},
   "source": [
    "# <div align = \"center\">Applied Data Science Capstone, Week 2<br>Part 1: Exploratory Data Analysis</div>"
   ]
  },
  {
   "cell_type": "markdown",
   "metadata": {},
   "source": [
    "In this part of the capstone I will load the dataframes than contain the data I will be using to build a model. A population and rental dataframe about each neighbourhood obtained from webscraping. The second dataframe is the restaurant ratings, obtained from Foursquare API. "
   ]
  },
  {
   "cell_type": "code",
   "execution_count": 90,
   "metadata": {},
   "outputs": [],
   "source": [
    "#Libraries used for EDA:\n",
    "import pandas as pd\n",
    "import matplotlib.pyplot as plt\n",
    "import seaborn as sns\n",
    "import numpy as np\n",
    "from sklearn.linear_model import LinearRegression\n",
    "from sklearn.preprocessing import PolynomialFeatures\n",
    "%matplotlib inline "
   ]
  },
  {
   "cell_type": "code",
   "execution_count": 2,
   "metadata": {},
   "outputs": [
    {
     "data": {
      "text/html": [
       "<div>\n",
       "<style scoped>\n",
       "    .dataframe tbody tr th:only-of-type {\n",
       "        vertical-align: middle;\n",
       "    }\n",
       "\n",
       "    .dataframe tbody tr th {\n",
       "        vertical-align: top;\n",
       "    }\n",
       "\n",
       "    .dataframe thead th {\n",
       "        text-align: right;\n",
       "    }\n",
       "</style>\n",
       "<table border=\"1\" class=\"dataframe\">\n",
       "  <thead>\n",
       "    <tr style=\"text-align: right;\">\n",
       "      <th></th>\n",
       "      <th>nbh_num</th>\n",
       "      <th>Neighbourhood</th>\n",
       "      <th>Population 2016</th>\n",
       "      <th>Population density per square kilometre</th>\n",
       "      <th>Children (0-14 years)</th>\n",
       "      <th>Youth (15-24 years)</th>\n",
       "      <th>Working Age (25-54 years)</th>\n",
       "      <th>Pre-retirement (55-64 years)</th>\n",
       "      <th>Seniors (65+ years)</th>\n",
       "      <th>Older Seniors (85+ years)</th>\n",
       "      <th>After-tax income: Average amount ($)</th>\n",
       "    </tr>\n",
       "  </thead>\n",
       "  <tbody>\n",
       "    <tr>\n",
       "      <th>0</th>\n",
       "      <td>129</td>\n",
       "      <td>Agincourt North</td>\n",
       "      <td>29113</td>\n",
       "      <td>3929</td>\n",
       "      <td>3840</td>\n",
       "      <td>3705</td>\n",
       "      <td>11305</td>\n",
       "      <td>4230</td>\n",
       "      <td>6045</td>\n",
       "      <td>925</td>\n",
       "      <td>26955</td>\n",
       "    </tr>\n",
       "    <tr>\n",
       "      <th>1</th>\n",
       "      <td>128</td>\n",
       "      <td>Agincourt South-Malvern West</td>\n",
       "      <td>23757</td>\n",
       "      <td>3034</td>\n",
       "      <td>3075</td>\n",
       "      <td>3360</td>\n",
       "      <td>9965</td>\n",
       "      <td>3265</td>\n",
       "      <td>4105</td>\n",
       "      <td>555</td>\n",
       "      <td>27928</td>\n",
       "    </tr>\n",
       "    <tr>\n",
       "      <th>2</th>\n",
       "      <td>20</td>\n",
       "      <td>Alderwood</td>\n",
       "      <td>12054</td>\n",
       "      <td>2435</td>\n",
       "      <td>1760</td>\n",
       "      <td>1235</td>\n",
       "      <td>5220</td>\n",
       "      <td>1825</td>\n",
       "      <td>2015</td>\n",
       "      <td>320</td>\n",
       "      <td>39159</td>\n",
       "    </tr>\n",
       "    <tr>\n",
       "      <th>3</th>\n",
       "      <td>95</td>\n",
       "      <td>Annex</td>\n",
       "      <td>30526</td>\n",
       "      <td>10863</td>\n",
       "      <td>2360</td>\n",
       "      <td>3750</td>\n",
       "      <td>15040</td>\n",
       "      <td>3480</td>\n",
       "      <td>5910</td>\n",
       "      <td>1040</td>\n",
       "      <td>80138</td>\n",
       "    </tr>\n",
       "    <tr>\n",
       "      <th>4</th>\n",
       "      <td>42</td>\n",
       "      <td>Banbury-Don Mills</td>\n",
       "      <td>27695</td>\n",
       "      <td>2775</td>\n",
       "      <td>3605</td>\n",
       "      <td>2730</td>\n",
       "      <td>10810</td>\n",
       "      <td>3555</td>\n",
       "      <td>6975</td>\n",
       "      <td>1640</td>\n",
       "      <td>51874</td>\n",
       "    </tr>\n",
       "    <tr>\n",
       "      <th>...</th>\n",
       "      <td>...</td>\n",
       "      <td>...</td>\n",
       "      <td>...</td>\n",
       "      <td>...</td>\n",
       "      <td>...</td>\n",
       "      <td>...</td>\n",
       "      <td>...</td>\n",
       "      <td>...</td>\n",
       "      <td>...</td>\n",
       "      <td>...</td>\n",
       "      <td>...</td>\n",
       "    </tr>\n",
       "    <tr>\n",
       "      <th>135</th>\n",
       "      <td>94</td>\n",
       "      <td>Wychwood</td>\n",
       "      <td>14349</td>\n",
       "      <td>8541</td>\n",
       "      <td>1860</td>\n",
       "      <td>1320</td>\n",
       "      <td>6420</td>\n",
       "      <td>1595</td>\n",
       "      <td>3150</td>\n",
       "      <td>880</td>\n",
       "      <td>43054</td>\n",
       "    </tr>\n",
       "    <tr>\n",
       "      <th>136</th>\n",
       "      <td>100</td>\n",
       "      <td>Yonge-Eglinton</td>\n",
       "      <td>11817</td>\n",
       "      <td>7162</td>\n",
       "      <td>1800</td>\n",
       "      <td>1225</td>\n",
       "      <td>5860</td>\n",
       "      <td>1325</td>\n",
       "      <td>1600</td>\n",
       "      <td>165</td>\n",
       "      <td>65356</td>\n",
       "    </tr>\n",
       "    <tr>\n",
       "      <th>137</th>\n",
       "      <td>97</td>\n",
       "      <td>Yonge-St.Clair</td>\n",
       "      <td>12528</td>\n",
       "      <td>10708</td>\n",
       "      <td>1210</td>\n",
       "      <td>920</td>\n",
       "      <td>5960</td>\n",
       "      <td>1540</td>\n",
       "      <td>2905</td>\n",
       "      <td>470</td>\n",
       "      <td>80555</td>\n",
       "    </tr>\n",
       "    <tr>\n",
       "      <th>138</th>\n",
       "      <td>27</td>\n",
       "      <td>York University Heights</td>\n",
       "      <td>27593</td>\n",
       "      <td>2086</td>\n",
       "      <td>4045</td>\n",
       "      <td>4750</td>\n",
       "      <td>12290</td>\n",
       "      <td>2965</td>\n",
       "      <td>3530</td>\n",
       "      <td>400</td>\n",
       "      <td>26651</td>\n",
       "    </tr>\n",
       "    <tr>\n",
       "      <th>139</th>\n",
       "      <td>31</td>\n",
       "      <td>Yorkdale-Glen Park</td>\n",
       "      <td>14804</td>\n",
       "      <td>2451</td>\n",
       "      <td>1960</td>\n",
       "      <td>1870</td>\n",
       "      <td>5860</td>\n",
       "      <td>1810</td>\n",
       "      <td>3295</td>\n",
       "      <td>775</td>\n",
       "      <td>32904</td>\n",
       "    </tr>\n",
       "  </tbody>\n",
       "</table>\n",
       "<p>140 rows × 11 columns</p>\n",
       "</div>"
      ],
      "text/plain": [
       "     nbh_num                 Neighbourhood  Population 2016  \\\n",
       "0        129               Agincourt North            29113   \n",
       "1        128  Agincourt South-Malvern West            23757   \n",
       "2         20                     Alderwood            12054   \n",
       "3         95                         Annex            30526   \n",
       "4         42             Banbury-Don Mills            27695   \n",
       "..       ...                           ...              ...   \n",
       "135       94                      Wychwood            14349   \n",
       "136      100                Yonge-Eglinton            11817   \n",
       "137       97                Yonge-St.Clair            12528   \n",
       "138       27       York University Heights            27593   \n",
       "139       31            Yorkdale-Glen Park            14804   \n",
       "\n",
       "     Population density per square kilometre  Children (0-14 years)  \\\n",
       "0                                       3929                   3840   \n",
       "1                                       3034                   3075   \n",
       "2                                       2435                   1760   \n",
       "3                                      10863                   2360   \n",
       "4                                       2775                   3605   \n",
       "..                                       ...                    ...   \n",
       "135                                     8541                   1860   \n",
       "136                                     7162                   1800   \n",
       "137                                    10708                   1210   \n",
       "138                                     2086                   4045   \n",
       "139                                     2451                   1960   \n",
       "\n",
       "     Youth (15-24 years)  Working Age (25-54 years)  \\\n",
       "0                   3705                      11305   \n",
       "1                   3360                       9965   \n",
       "2                   1235                       5220   \n",
       "3                   3750                      15040   \n",
       "4                   2730                      10810   \n",
       "..                   ...                        ...   \n",
       "135                 1320                       6420   \n",
       "136                 1225                       5860   \n",
       "137                  920                       5960   \n",
       "138                 4750                      12290   \n",
       "139                 1870                       5860   \n",
       "\n",
       "     Pre-retirement (55-64 years)  Seniors (65+ years)  \\\n",
       "0                            4230                 6045   \n",
       "1                            3265                 4105   \n",
       "2                            1825                 2015   \n",
       "3                            3480                 5910   \n",
       "4                            3555                 6975   \n",
       "..                            ...                  ...   \n",
       "135                          1595                 3150   \n",
       "136                          1325                 1600   \n",
       "137                          1540                 2905   \n",
       "138                          2965                 3530   \n",
       "139                          1810                 3295   \n",
       "\n",
       "     Older Seniors (85+ years)  After-tax income: Average amount ($)  \n",
       "0                          925                                 26955  \n",
       "1                          555                                 27928  \n",
       "2                          320                                 39159  \n",
       "3                         1040                                 80138  \n",
       "4                         1640                                 51874  \n",
       "..                         ...                                   ...  \n",
       "135                        880                                 43054  \n",
       "136                        165                                 65356  \n",
       "137                        470                                 80555  \n",
       "138                        400                                 26651  \n",
       "139                        775                                 32904  \n",
       "\n",
       "[140 rows x 11 columns]"
      ]
     },
     "execution_count": 2,
     "metadata": {},
     "output_type": "execute_result"
    }
   ],
   "source": [
    "#Information about the population\n",
    "pop_df = pd.read_csv('toronto_merged.csv')\n",
    "pop_df = pop_df.rename(columns = {'Neighbourhood Number':'nbh_num'})\n",
    "temp_col = pop_df.pop('Neighbourhood')\n",
    "pop_df.insert(1, 'Neighbourhood', temp_col)\n",
    "pop_df"
   ]
  },
  {
   "cell_type": "code",
   "execution_count": 3,
   "metadata": {},
   "outputs": [
    {
     "data": {
      "text/html": [
       "<div>\n",
       "<style scoped>\n",
       "    .dataframe tbody tr th:only-of-type {\n",
       "        vertical-align: middle;\n",
       "    }\n",
       "\n",
       "    .dataframe tbody tr th {\n",
       "        vertical-align: top;\n",
       "    }\n",
       "\n",
       "    .dataframe thead th {\n",
       "        text-align: right;\n",
       "    }\n",
       "</style>\n",
       "<table border=\"1\" class=\"dataframe\">\n",
       "  <thead>\n",
       "    <tr style=\"text-align: right;\">\n",
       "      <th></th>\n",
       "      <th>nbh_num</th>\n",
       "      <th>venue_id</th>\n",
       "      <th>venue_lon</th>\n",
       "      <th>venue_lat</th>\n",
       "      <th>cat_1</th>\n",
       "      <th>cat_2</th>\n",
       "      <th>price_tier</th>\n",
       "      <th>likes</th>\n",
       "      <th>rating</th>\n",
       "    </tr>\n",
       "  </thead>\n",
       "  <tbody>\n",
       "    <tr>\n",
       "      <th>0</th>\n",
       "      <td>1</td>\n",
       "      <td>4b5f8a3df964a52062c029e3</td>\n",
       "      <td>-79.594387</td>\n",
       "      <td>43.720360</td>\n",
       "      <td>Chinese Restaurant</td>\n",
       "      <td>Buffet</td>\n",
       "      <td>1</td>\n",
       "      <td>37</td>\n",
       "      <td>7.2</td>\n",
       "    </tr>\n",
       "    <tr>\n",
       "      <th>1</th>\n",
       "      <td>1</td>\n",
       "      <td>4d277a593c795481fa00c59b</td>\n",
       "      <td>-79.600453</td>\n",
       "      <td>43.731018</td>\n",
       "      <td>Burger Joint</td>\n",
       "      <td>None</td>\n",
       "      <td>1</td>\n",
       "      <td>5</td>\n",
       "      <td>7.1</td>\n",
       "    </tr>\n",
       "    <tr>\n",
       "      <th>2</th>\n",
       "      <td>1</td>\n",
       "      <td>561d7a54498ed5c87ce4159d</td>\n",
       "      <td>-79.593053</td>\n",
       "      <td>43.715786</td>\n",
       "      <td>Mediterranean Restaurant</td>\n",
       "      <td>Turkish Restaurant</td>\n",
       "      <td>2</td>\n",
       "      <td>6</td>\n",
       "      <td>6.2</td>\n",
       "    </tr>\n",
       "    <tr>\n",
       "      <th>3</th>\n",
       "      <td>1</td>\n",
       "      <td>4c2278a67e85c9287d13bc21</td>\n",
       "      <td>-79.600033</td>\n",
       "      <td>43.720549</td>\n",
       "      <td>Sandwich Place</td>\n",
       "      <td>Fast Food Restaurant</td>\n",
       "      <td>1</td>\n",
       "      <td>1</td>\n",
       "      <td>6.2</td>\n",
       "    </tr>\n",
       "    <tr>\n",
       "      <th>4</th>\n",
       "      <td>1</td>\n",
       "      <td>4b60bccff964a5209cf629e3</td>\n",
       "      <td>-79.577358</td>\n",
       "      <td>43.712146</td>\n",
       "      <td>Restaurant</td>\n",
       "      <td>None</td>\n",
       "      <td>2</td>\n",
       "      <td>17</td>\n",
       "      <td>6.6</td>\n",
       "    </tr>\n",
       "    <tr>\n",
       "      <th>...</th>\n",
       "      <td>...</td>\n",
       "      <td>...</td>\n",
       "      <td>...</td>\n",
       "      <td>...</td>\n",
       "      <td>...</td>\n",
       "      <td>...</td>\n",
       "      <td>...</td>\n",
       "      <td>...</td>\n",
       "      <td>...</td>\n",
       "    </tr>\n",
       "    <tr>\n",
       "      <th>375</th>\n",
       "      <td>139</td>\n",
       "      <td>57470536498e136274e2f257</td>\n",
       "      <td>-79.217342</td>\n",
       "      <td>43.737541</td>\n",
       "      <td>Seafood Restaurant</td>\n",
       "      <td>Fast Food Restaurant</td>\n",
       "      <td>3</td>\n",
       "      <td>0</td>\n",
       "      <td>0.0</td>\n",
       "    </tr>\n",
       "    <tr>\n",
       "      <th>376</th>\n",
       "      <td>139</td>\n",
       "      <td>4d642ab4b470a14399e715fe</td>\n",
       "      <td>-79.218378</td>\n",
       "      <td>43.738162</td>\n",
       "      <td>Café</td>\n",
       "      <td>None</td>\n",
       "      <td>1</td>\n",
       "      <td>1</td>\n",
       "      <td>0.0</td>\n",
       "    </tr>\n",
       "    <tr>\n",
       "      <th>377</th>\n",
       "      <td>140</td>\n",
       "      <td>4bd5b4e86f649521ca7d6fec</td>\n",
       "      <td>-79.199549</td>\n",
       "      <td>43.747099</td>\n",
       "      <td>Sandwich Place</td>\n",
       "      <td>Fast Food Restaurant</td>\n",
       "      <td>1</td>\n",
       "      <td>0</td>\n",
       "      <td>6.3</td>\n",
       "    </tr>\n",
       "    <tr>\n",
       "      <th>378</th>\n",
       "      <td>140</td>\n",
       "      <td>5e4dbeb09ed4790008f8adf6</td>\n",
       "      <td>-79.192126</td>\n",
       "      <td>43.747676</td>\n",
       "      <td>Breakfast Spot</td>\n",
       "      <td>None</td>\n",
       "      <td>1</td>\n",
       "      <td>0</td>\n",
       "      <td>0.0</td>\n",
       "    </tr>\n",
       "    <tr>\n",
       "      <th>379</th>\n",
       "      <td>140</td>\n",
       "      <td>4bdfa5206198c9b6fe0c18ff</td>\n",
       "      <td>-79.200446</td>\n",
       "      <td>43.747086</td>\n",
       "      <td>Pizza Place</td>\n",
       "      <td>None</td>\n",
       "      <td>1</td>\n",
       "      <td>2</td>\n",
       "      <td>0.0</td>\n",
       "    </tr>\n",
       "  </tbody>\n",
       "</table>\n",
       "<p>380 rows × 9 columns</p>\n",
       "</div>"
      ],
      "text/plain": [
       "     nbh_num                  venue_id  venue_lon  venue_lat  \\\n",
       "0          1  4b5f8a3df964a52062c029e3 -79.594387  43.720360   \n",
       "1          1  4d277a593c795481fa00c59b -79.600453  43.731018   \n",
       "2          1  561d7a54498ed5c87ce4159d -79.593053  43.715786   \n",
       "3          1  4c2278a67e85c9287d13bc21 -79.600033  43.720549   \n",
       "4          1  4b60bccff964a5209cf629e3 -79.577358  43.712146   \n",
       "..       ...                       ...        ...        ...   \n",
       "375      139  57470536498e136274e2f257 -79.217342  43.737541   \n",
       "376      139  4d642ab4b470a14399e715fe -79.218378  43.738162   \n",
       "377      140  4bd5b4e86f649521ca7d6fec -79.199549  43.747099   \n",
       "378      140  5e4dbeb09ed4790008f8adf6 -79.192126  43.747676   \n",
       "379      140  4bdfa5206198c9b6fe0c18ff -79.200446  43.747086   \n",
       "\n",
       "                        cat_1                 cat_2  price_tier  likes  rating  \n",
       "0          Chinese Restaurant                Buffet           1     37     7.2  \n",
       "1                Burger Joint                  None           1      5     7.1  \n",
       "2    Mediterranean Restaurant    Turkish Restaurant           2      6     6.2  \n",
       "3              Sandwich Place  Fast Food Restaurant           1      1     6.2  \n",
       "4                  Restaurant                  None           2     17     6.6  \n",
       "..                        ...                   ...         ...    ...     ...  \n",
       "375        Seafood Restaurant  Fast Food Restaurant           3      0     0.0  \n",
       "376                      Café                  None           1      1     0.0  \n",
       "377            Sandwich Place  Fast Food Restaurant           1      0     6.3  \n",
       "378            Breakfast Spot                  None           1      0     0.0  \n",
       "379               Pizza Place                  None           1      2     0.0  \n",
       "\n",
       "[380 rows x 9 columns]"
      ]
     },
     "execution_count": 3,
     "metadata": {},
     "output_type": "execute_result"
    }
   ],
   "source": [
    "#Information from Foursquare:\n",
    "fs_df = pd.read_csv('ratings_raw.csv')\n",
    "fs_df"
   ]
  },
  {
   "cell_type": "code",
   "execution_count": 4,
   "metadata": {},
   "outputs": [
    {
     "data": {
      "text/html": [
       "<div>\n",
       "<style scoped>\n",
       "    .dataframe tbody tr th:only-of-type {\n",
       "        vertical-align: middle;\n",
       "    }\n",
       "\n",
       "    .dataframe tbody tr th {\n",
       "        vertical-align: top;\n",
       "    }\n",
       "\n",
       "    .dataframe thead th {\n",
       "        text-align: right;\n",
       "    }\n",
       "</style>\n",
       "<table border=\"1\" class=\"dataframe\">\n",
       "  <thead>\n",
       "    <tr style=\"text-align: right;\">\n",
       "      <th></th>\n",
       "      <th>nbh_num</th>\n",
       "      <th>CAD / ft²·month</th>\n",
       "    </tr>\n",
       "  </thead>\n",
       "  <tbody>\n",
       "    <tr>\n",
       "      <th>0</th>\n",
       "      <td>1</td>\n",
       "      <td>4.015792</td>\n",
       "    </tr>\n",
       "    <tr>\n",
       "      <th>1</th>\n",
       "      <td>2</td>\n",
       "      <td>2.916667</td>\n",
       "    </tr>\n",
       "    <tr>\n",
       "      <th>2</th>\n",
       "      <td>3</td>\n",
       "      <td>1.333333</td>\n",
       "    </tr>\n",
       "    <tr>\n",
       "      <th>3</th>\n",
       "      <td>17</td>\n",
       "      <td>2.652806</td>\n",
       "    </tr>\n",
       "    <tr>\n",
       "      <th>4</th>\n",
       "      <td>19</td>\n",
       "      <td>0.389306</td>\n",
       "    </tr>\n",
       "    <tr>\n",
       "      <th>...</th>\n",
       "      <td>...</td>\n",
       "      <td>...</td>\n",
       "    </tr>\n",
       "    <tr>\n",
       "      <th>78</th>\n",
       "      <td>133</td>\n",
       "      <td>4.000000</td>\n",
       "    </tr>\n",
       "    <tr>\n",
       "      <th>79</th>\n",
       "      <td>137</td>\n",
       "      <td>2.551706</td>\n",
       "    </tr>\n",
       "    <tr>\n",
       "      <th>80</th>\n",
       "      <td>138</td>\n",
       "      <td>0.981618</td>\n",
       "    </tr>\n",
       "    <tr>\n",
       "      <th>81</th>\n",
       "      <td>139</td>\n",
       "      <td>2.063308</td>\n",
       "    </tr>\n",
       "    <tr>\n",
       "      <th>82</th>\n",
       "      <td>140</td>\n",
       "      <td>1.553063</td>\n",
       "    </tr>\n",
       "  </tbody>\n",
       "</table>\n",
       "<p>83 rows × 2 columns</p>\n",
       "</div>"
      ],
      "text/plain": [
       "    nbh_num  CAD / ft²·month\n",
       "0         1         4.015792\n",
       "1         2         2.916667\n",
       "2         3         1.333333\n",
       "3        17         2.652806\n",
       "4        19         0.389306\n",
       "..      ...              ...\n",
       "78      133         4.000000\n",
       "79      137         2.551706\n",
       "80      138         0.981618\n",
       "81      139         2.063308\n",
       "82      140         1.553063\n",
       "\n",
       "[83 rows x 2 columns]"
      ]
     },
     "execution_count": 4,
     "metadata": {},
     "output_type": "execute_result"
    }
   ],
   "source": [
    "#Rental information:\n",
    "rental_df = pd.read_csv('area_rent.csv')\n",
    "rental_df.columns = ['nbh_num', 'CAD / ft²·month']\n",
    "rental_df"
   ]
  },
  {
   "cell_type": "code",
   "execution_count": 5,
   "metadata": {},
   "outputs": [],
   "source": [
    "#Merge all the dataframes using the the nbh_num column:\n",
    "df = fs_df.merge(rental_df, how = 'left', on = 'nbh_num').merge(pop_df, how = 'left', on='nbh_num')"
   ]
  },
  {
   "cell_type": "code",
   "execution_count": 6,
   "metadata": {},
   "outputs": [],
   "source": [
    "#Columns cleanup:\n",
    "df.drop(['venue_id', 'venue_lon', 'venue_lat'], axis = 1, inplace = True)"
   ]
  },
  {
   "cell_type": "code",
   "execution_count": 7,
   "metadata": {},
   "outputs": [],
   "source": [
    "df = df[df['rating'] != 0]"
   ]
  },
  {
   "cell_type": "code",
   "execution_count": 8,
   "metadata": {},
   "outputs": [
    {
     "data": {
      "text/html": [
       "<div>\n",
       "<style scoped>\n",
       "    .dataframe tbody tr th:only-of-type {\n",
       "        vertical-align: middle;\n",
       "    }\n",
       "\n",
       "    .dataframe tbody tr th {\n",
       "        vertical-align: top;\n",
       "    }\n",
       "\n",
       "    .dataframe thead th {\n",
       "        text-align: right;\n",
       "    }\n",
       "</style>\n",
       "<table border=\"1\" class=\"dataframe\">\n",
       "  <thead>\n",
       "    <tr style=\"text-align: right;\">\n",
       "      <th></th>\n",
       "      <th>nbh_num</th>\n",
       "      <th>cat_1</th>\n",
       "      <th>cat_2</th>\n",
       "      <th>price_tier</th>\n",
       "      <th>likes</th>\n",
       "      <th>rating</th>\n",
       "      <th>CAD / ft²·month</th>\n",
       "      <th>Neighbourhood</th>\n",
       "      <th>Population 2016</th>\n",
       "      <th>Population density per square kilometre</th>\n",
       "      <th>Children (0-14 years)</th>\n",
       "      <th>Youth (15-24 years)</th>\n",
       "      <th>Working Age (25-54 years)</th>\n",
       "      <th>Pre-retirement (55-64 years)</th>\n",
       "      <th>Seniors (65+ years)</th>\n",
       "      <th>Older Seniors (85+ years)</th>\n",
       "      <th>After-tax income: Average amount ($)</th>\n",
       "    </tr>\n",
       "  </thead>\n",
       "  <tbody>\n",
       "    <tr>\n",
       "      <th>0</th>\n",
       "      <td>1</td>\n",
       "      <td>Chinese Restaurant</td>\n",
       "      <td>Buffet</td>\n",
       "      <td>1</td>\n",
       "      <td>37</td>\n",
       "      <td>7.2</td>\n",
       "      <td>4.015792</td>\n",
       "      <td>West Humber-Clairville</td>\n",
       "      <td>33312</td>\n",
       "      <td>1117</td>\n",
       "      <td>5060</td>\n",
       "      <td>5445</td>\n",
       "      <td>13845</td>\n",
       "      <td>3990</td>\n",
       "      <td>4980</td>\n",
       "      <td>615</td>\n",
       "      <td>28066</td>\n",
       "    </tr>\n",
       "    <tr>\n",
       "      <th>1</th>\n",
       "      <td>1</td>\n",
       "      <td>Burger Joint</td>\n",
       "      <td>None</td>\n",
       "      <td>1</td>\n",
       "      <td>5</td>\n",
       "      <td>7.1</td>\n",
       "      <td>4.015792</td>\n",
       "      <td>West Humber-Clairville</td>\n",
       "      <td>33312</td>\n",
       "      <td>1117</td>\n",
       "      <td>5060</td>\n",
       "      <td>5445</td>\n",
       "      <td>13845</td>\n",
       "      <td>3990</td>\n",
       "      <td>4980</td>\n",
       "      <td>615</td>\n",
       "      <td>28066</td>\n",
       "    </tr>\n",
       "    <tr>\n",
       "      <th>2</th>\n",
       "      <td>1</td>\n",
       "      <td>Mediterranean Restaurant</td>\n",
       "      <td>Turkish Restaurant</td>\n",
       "      <td>2</td>\n",
       "      <td>6</td>\n",
       "      <td>6.2</td>\n",
       "      <td>4.015792</td>\n",
       "      <td>West Humber-Clairville</td>\n",
       "      <td>33312</td>\n",
       "      <td>1117</td>\n",
       "      <td>5060</td>\n",
       "      <td>5445</td>\n",
       "      <td>13845</td>\n",
       "      <td>3990</td>\n",
       "      <td>4980</td>\n",
       "      <td>615</td>\n",
       "      <td>28066</td>\n",
       "    </tr>\n",
       "    <tr>\n",
       "      <th>3</th>\n",
       "      <td>1</td>\n",
       "      <td>Sandwich Place</td>\n",
       "      <td>Fast Food Restaurant</td>\n",
       "      <td>1</td>\n",
       "      <td>1</td>\n",
       "      <td>6.2</td>\n",
       "      <td>4.015792</td>\n",
       "      <td>West Humber-Clairville</td>\n",
       "      <td>33312</td>\n",
       "      <td>1117</td>\n",
       "      <td>5060</td>\n",
       "      <td>5445</td>\n",
       "      <td>13845</td>\n",
       "      <td>3990</td>\n",
       "      <td>4980</td>\n",
       "      <td>615</td>\n",
       "      <td>28066</td>\n",
       "    </tr>\n",
       "    <tr>\n",
       "      <th>4</th>\n",
       "      <td>1</td>\n",
       "      <td>Restaurant</td>\n",
       "      <td>None</td>\n",
       "      <td>2</td>\n",
       "      <td>17</td>\n",
       "      <td>6.6</td>\n",
       "      <td>4.015792</td>\n",
       "      <td>West Humber-Clairville</td>\n",
       "      <td>33312</td>\n",
       "      <td>1117</td>\n",
       "      <td>5060</td>\n",
       "      <td>5445</td>\n",
       "      <td>13845</td>\n",
       "      <td>3990</td>\n",
       "      <td>4980</td>\n",
       "      <td>615</td>\n",
       "      <td>28066</td>\n",
       "    </tr>\n",
       "  </tbody>\n",
       "</table>\n",
       "</div>"
      ],
      "text/plain": [
       "   nbh_num                     cat_1                 cat_2  price_tier  likes  \\\n",
       "0        1        Chinese Restaurant                Buffet           1     37   \n",
       "1        1              Burger Joint                  None           1      5   \n",
       "2        1  Mediterranean Restaurant    Turkish Restaurant           2      6   \n",
       "3        1            Sandwich Place  Fast Food Restaurant           1      1   \n",
       "4        1                Restaurant                  None           2     17   \n",
       "\n",
       "   rating  CAD / ft²·month           Neighbourhood  Population 2016  \\\n",
       "0     7.2         4.015792  West Humber-Clairville            33312   \n",
       "1     7.1         4.015792  West Humber-Clairville            33312   \n",
       "2     6.2         4.015792  West Humber-Clairville            33312   \n",
       "3     6.2         4.015792  West Humber-Clairville            33312   \n",
       "4     6.6         4.015792  West Humber-Clairville            33312   \n",
       "\n",
       "   Population density per square kilometre  Children (0-14 years)  \\\n",
       "0                                     1117                   5060   \n",
       "1                                     1117                   5060   \n",
       "2                                     1117                   5060   \n",
       "3                                     1117                   5060   \n",
       "4                                     1117                   5060   \n",
       "\n",
       "   Youth (15-24 years)  Working Age (25-54 years)  \\\n",
       "0                 5445                      13845   \n",
       "1                 5445                      13845   \n",
       "2                 5445                      13845   \n",
       "3                 5445                      13845   \n",
       "4                 5445                      13845   \n",
       "\n",
       "   Pre-retirement (55-64 years)  Seniors (65+ years)  \\\n",
       "0                          3990                 4980   \n",
       "1                          3990                 4980   \n",
       "2                          3990                 4980   \n",
       "3                          3990                 4980   \n",
       "4                          3990                 4980   \n",
       "\n",
       "   Older Seniors (85+ years)  After-tax income: Average amount ($)  \n",
       "0                        615                                 28066  \n",
       "1                        615                                 28066  \n",
       "2                        615                                 28066  \n",
       "3                        615                                 28066  \n",
       "4                        615                                 28066  "
      ]
     },
     "execution_count": 8,
     "metadata": {},
     "output_type": "execute_result"
    }
   ],
   "source": [
    "df.to_csv('ratings.csv', index = False)\n",
    "df.head()"
   ]
  },
  {
   "cell_type": "code",
   "execution_count": 9,
   "metadata": {},
   "outputs": [],
   "source": [
    "df = pd.read_csv('ratings.csv')"
   ]
  },
  {
   "cell_type": "code",
   "execution_count": 10,
   "metadata": {},
   "outputs": [
    {
     "data": {
      "text/plain": [
       "<matplotlib.axes._subplots.AxesSubplot at 0xee0c909430>"
      ]
     },
     "execution_count": 10,
     "metadata": {},
     "output_type": "execute_result"
    },
    {
     "data": {
      "image/png": "[encoded data removed]",
      "text/plain": [
       "<Figure size 432x288 with 1 Axes>"
      ]
     },
     "metadata": {
      "needs_background": "light"
     },
     "output_type": "display_data"
    }
   ],
   "source": [
    "sns.distplot(df.iloc[:,8], hist = True, norm_hist = False)"
   ]
  },
  {
   "cell_type": "code",
   "execution_count": 11,
   "metadata": {},
   "outputs": [
    {
     "data": {
      "text/plain": [
       "<matplotlib.axes._subplots.AxesSubplot at 0xee0d0a4160>"
      ]
     },
     "execution_count": 11,
     "metadata": {},
     "output_type": "execute_result"
    },
    {
     "data": {
      "image/png": "[encoded data removed]",
      "text/plain": [
       "<Figure size 432x288 with 1 Axes>"
      ]
     },
     "metadata": {
      "needs_background": "light"
     },
     "output_type": "display_data"
    }
   ],
   "source": [
    "sns.scatterplot(df.iloc[:,16], df.iloc[:,5])"
   ]
  },
  {
   "cell_type": "code",
   "execution_count": 12,
   "metadata": {},
   "outputs": [
    {
     "data": {
      "text/plain": [
       "<matplotlib.axes._subplots.AxesSubplot at 0xee0d126760>"
      ]
     },
     "execution_count": 12,
     "metadata": {},
     "output_type": "execute_result"
    },
    {
     "data": {
      "image/png": "[encoded data removed]",
      "text/plain": [
       "<Figure size 432x288 with 1 Axes>"
      ]
     },
     "metadata": {
      "needs_background": "light"
     },
     "output_type": "display_data"
    }
   ],
   "source": [
    "sns.scatterplot(df.iloc[:,9], df.iloc[:,5])"
   ]
  },
  {
   "cell_type": "code",
   "execution_count": 13,
   "metadata": {},
   "outputs": [
    {
     "data": {
      "text/plain": [
       "<matplotlib.axes._subplots.AxesSubplot at 0xee0d1805e0>"
      ]
     },
     "execution_count": 13,
     "metadata": {},
     "output_type": "execute_result"
    },
    {
     "data": {
      "image/png": "[encoded data removed]",
      "text/plain": [
       "<Figure size 432x288 with 1 Axes>"
      ]
     },
     "metadata": {
      "needs_background": "light"
     },
     "output_type": "display_data"
    }
   ],
   "source": [
    "sns.scatterplot(df.iloc[:,6], df.iloc[:,5])"
   ]
  },
  {
   "cell_type": "code",
   "execution_count": 14,
   "metadata": {},
   "outputs": [
    {
     "data": {
      "text/html": [
       "<div>\n",
       "<style scoped>\n",
       "    .dataframe tbody tr th:only-of-type {\n",
       "        vertical-align: middle;\n",
       "    }\n",
       "\n",
       "    .dataframe tbody tr th {\n",
       "        vertical-align: top;\n",
       "    }\n",
       "\n",
       "    .dataframe thead th {\n",
       "        text-align: right;\n",
       "    }\n",
       "</style>\n",
       "<table border=\"1\" class=\"dataframe\">\n",
       "  <thead>\n",
       "    <tr style=\"text-align: right;\">\n",
       "      <th></th>\n",
       "      <th>price_tier</th>\n",
       "      <th>likes</th>\n",
       "      <th>rating</th>\n",
       "      <th>CAD / ft²·month</th>\n",
       "      <th>Population 2016</th>\n",
       "      <th>Population density per square kilometre</th>\n",
       "      <th>Children (0-14 years)</th>\n",
       "      <th>Youth (15-24 years)</th>\n",
       "      <th>Working Age (25-54 years)</th>\n",
       "      <th>Pre-retirement (55-64 years)</th>\n",
       "      <th>Seniors (65+ years)</th>\n",
       "      <th>Older Seniors (85+ years)</th>\n",
       "      <th>After-tax income: Average amount ($)</th>\n",
       "    </tr>\n",
       "    <tr>\n",
       "      <th>nbh_num</th>\n",
       "      <th></th>\n",
       "      <th></th>\n",
       "      <th></th>\n",
       "      <th></th>\n",
       "      <th></th>\n",
       "      <th></th>\n",
       "      <th></th>\n",
       "      <th></th>\n",
       "      <th></th>\n",
       "      <th></th>\n",
       "      <th></th>\n",
       "      <th></th>\n",
       "      <th></th>\n",
       "    </tr>\n",
       "  </thead>\n",
       "  <tbody>\n",
       "    <tr>\n",
       "      <th>1</th>\n",
       "      <td>1.4</td>\n",
       "      <td>13.200000</td>\n",
       "      <td>6.660000</td>\n",
       "      <td>4.015792</td>\n",
       "      <td>33312.0</td>\n",
       "      <td>1117.0</td>\n",
       "      <td>5060.0</td>\n",
       "      <td>5445.0</td>\n",
       "      <td>13845.0</td>\n",
       "      <td>3990.0</td>\n",
       "      <td>4980.0</td>\n",
       "      <td>615.0</td>\n",
       "      <td>28066.0</td>\n",
       "    </tr>\n",
       "    <tr>\n",
       "      <th>2</th>\n",
       "      <td>1.0</td>\n",
       "      <td>1.000000</td>\n",
       "      <td>6.375000</td>\n",
       "      <td>2.916667</td>\n",
       "      <td>32954.0</td>\n",
       "      <td>7291.0</td>\n",
       "      <td>7090.0</td>\n",
       "      <td>5240.0</td>\n",
       "      <td>13615.0</td>\n",
       "      <td>3475.0</td>\n",
       "      <td>3560.0</td>\n",
       "      <td>300.0</td>\n",
       "      <td>24122.0</td>\n",
       "    </tr>\n",
       "    <tr>\n",
       "      <th>3</th>\n",
       "      <td>1.4</td>\n",
       "      <td>7.400000</td>\n",
       "      <td>6.800000</td>\n",
       "      <td>1.333333</td>\n",
       "      <td>10360.0</td>\n",
       "      <td>3130.0</td>\n",
       "      <td>1730.0</td>\n",
       "      <td>1410.0</td>\n",
       "      <td>4160.0</td>\n",
       "      <td>1195.0</td>\n",
       "      <td>1880.0</td>\n",
       "      <td>350.0</td>\n",
       "      <td>28842.0</td>\n",
       "    </tr>\n",
       "    <tr>\n",
       "      <th>17</th>\n",
       "      <td>1.8</td>\n",
       "      <td>20.800000</td>\n",
       "      <td>8.260000</td>\n",
       "      <td>2.652806</td>\n",
       "      <td>33964.0</td>\n",
       "      <td>4915.0</td>\n",
       "      <td>3505.0</td>\n",
       "      <td>3010.0</td>\n",
       "      <td>17695.0</td>\n",
       "      <td>4620.0</td>\n",
       "      <td>5160.0</td>\n",
       "      <td>565.0</td>\n",
       "      <td>43971.0</td>\n",
       "    </tr>\n",
       "    <tr>\n",
       "      <th>19</th>\n",
       "      <td>1.6</td>\n",
       "      <td>17.400000</td>\n",
       "      <td>7.560000</td>\n",
       "      <td>0.389306</td>\n",
       "      <td>10084.0</td>\n",
       "      <td>4584.0</td>\n",
       "      <td>1335.0</td>\n",
       "      <td>1130.0</td>\n",
       "      <td>4705.0</td>\n",
       "      <td>1520.0</td>\n",
       "      <td>1405.0</td>\n",
       "      <td>140.0</td>\n",
       "      <td>39000.0</td>\n",
       "    </tr>\n",
       "    <tr>\n",
       "      <th>...</th>\n",
       "      <td>...</td>\n",
       "      <td>...</td>\n",
       "      <td>...</td>\n",
       "      <td>...</td>\n",
       "      <td>...</td>\n",
       "      <td>...</td>\n",
       "      <td>...</td>\n",
       "      <td>...</td>\n",
       "      <td>...</td>\n",
       "      <td>...</td>\n",
       "      <td>...</td>\n",
       "      <td>...</td>\n",
       "      <td>...</td>\n",
       "    </tr>\n",
       "    <tr>\n",
       "      <th>133</th>\n",
       "      <td>1.0</td>\n",
       "      <td>2.333333</td>\n",
       "      <td>6.266667</td>\n",
       "      <td>4.000000</td>\n",
       "      <td>13362.0</td>\n",
       "      <td>2479.0</td>\n",
       "      <td>2150.0</td>\n",
       "      <td>1850.0</td>\n",
       "      <td>5030.0</td>\n",
       "      <td>1955.0</td>\n",
       "      <td>2385.0</td>\n",
       "      <td>160.0</td>\n",
       "      <td>43854.0</td>\n",
       "    </tr>\n",
       "    <tr>\n",
       "      <th>137</th>\n",
       "      <td>1.4</td>\n",
       "      <td>19.400000</td>\n",
       "      <td>7.880000</td>\n",
       "      <td>2.551706</td>\n",
       "      <td>53485.0</td>\n",
       "      <td>4345.0</td>\n",
       "      <td>9625.0</td>\n",
       "      <td>7660.0</td>\n",
       "      <td>21945.0</td>\n",
       "      <td>6245.0</td>\n",
       "      <td>8010.0</td>\n",
       "      <td>1130.0</td>\n",
       "      <td>27341.0</td>\n",
       "    </tr>\n",
       "    <tr>\n",
       "      <th>138</th>\n",
       "      <td>1.0</td>\n",
       "      <td>1.000000</td>\n",
       "      <td>6.550000</td>\n",
       "      <td>0.981618</td>\n",
       "      <td>22776.0</td>\n",
       "      <td>7051.0</td>\n",
       "      <td>4180.0</td>\n",
       "      <td>3130.0</td>\n",
       "      <td>9180.0</td>\n",
       "      <td>2825.0</td>\n",
       "      <td>3505.0</td>\n",
       "      <td>560.0</td>\n",
       "      <td>26865.0</td>\n",
       "    </tr>\n",
       "    <tr>\n",
       "      <th>139</th>\n",
       "      <td>1.0</td>\n",
       "      <td>3.666667</td>\n",
       "      <td>6.266667</td>\n",
       "      <td>2.063308</td>\n",
       "      <td>16724.0</td>\n",
       "      <td>5395.0</td>\n",
       "      <td>3365.0</td>\n",
       "      <td>2360.0</td>\n",
       "      <td>6685.0</td>\n",
       "      <td>2095.0</td>\n",
       "      <td>2225.0</td>\n",
       "      <td>430.0</td>\n",
       "      <td>28634.0</td>\n",
       "    </tr>\n",
       "    <tr>\n",
       "      <th>140</th>\n",
       "      <td>1.0</td>\n",
       "      <td>0.000000</td>\n",
       "      <td>6.300000</td>\n",
       "      <td>1.553063</td>\n",
       "      <td>9917.0</td>\n",
       "      <td>2673.0</td>\n",
       "      <td>1295.0</td>\n",
       "      <td>1065.0</td>\n",
       "      <td>3370.0</td>\n",
       "      <td>1555.0</td>\n",
       "      <td>2635.0</td>\n",
       "      <td>540.0</td>\n",
       "      <td>43848.0</td>\n",
       "    </tr>\n",
       "  </tbody>\n",
       "</table>\n",
       "<p>77 rows × 13 columns</p>\n",
       "</div>"
      ],
      "text/plain": [
       "         price_tier      likes    rating  CAD / ft²·month  Population 2016  \\\n",
       "nbh_num                                                                      \n",
       "1               1.4  13.200000  6.660000         4.015792          33312.0   \n",
       "2               1.0   1.000000  6.375000         2.916667          32954.0   \n",
       "3               1.4   7.400000  6.800000         1.333333          10360.0   \n",
       "17              1.8  20.800000  8.260000         2.652806          33964.0   \n",
       "19              1.6  17.400000  7.560000         0.389306          10084.0   \n",
       "...             ...        ...       ...              ...              ...   \n",
       "133             1.0   2.333333  6.266667         4.000000          13362.0   \n",
       "137             1.4  19.400000  7.880000         2.551706          53485.0   \n",
       "138             1.0   1.000000  6.550000         0.981618          22776.0   \n",
       "139             1.0   3.666667  6.266667         2.063308          16724.0   \n",
       "140             1.0   0.000000  6.300000         1.553063           9917.0   \n",
       "\n",
       "         Population density per square kilometre  Children (0-14 years)  \\\n",
       "nbh_num                                                                   \n",
       "1                                         1117.0                 5060.0   \n",
       "2                                         7291.0                 7090.0   \n",
       "3                                         3130.0                 1730.0   \n",
       "17                                        4915.0                 3505.0   \n",
       "19                                        4584.0                 1335.0   \n",
       "...                                          ...                    ...   \n",
       "133                                       2479.0                 2150.0   \n",
       "137                                       4345.0                 9625.0   \n",
       "138                                       7051.0                 4180.0   \n",
       "139                                       5395.0                 3365.0   \n",
       "140                                       2673.0                 1295.0   \n",
       "\n",
       "         Youth (15-24 years)  Working Age (25-54 years)  \\\n",
       "nbh_num                                                   \n",
       "1                     5445.0                    13845.0   \n",
       "2                     5240.0                    13615.0   \n",
       "3                     1410.0                     4160.0   \n",
       "17                    3010.0                    17695.0   \n",
       "19                    1130.0                     4705.0   \n",
       "...                      ...                        ...   \n",
       "133                   1850.0                     5030.0   \n",
       "137                   7660.0                    21945.0   \n",
       "138                   3130.0                     9180.0   \n",
       "139                   2360.0                     6685.0   \n",
       "140                   1065.0                     3370.0   \n",
       "\n",
       "         Pre-retirement (55-64 years)  Seniors (65+ years)  \\\n",
       "nbh_num                                                      \n",
       "1                              3990.0               4980.0   \n",
       "2                              3475.0               3560.0   \n",
       "3                              1195.0               1880.0   \n",
       "17                             4620.0               5160.0   \n",
       "19                             1520.0               1405.0   \n",
       "...                               ...                  ...   \n",
       "133                            1955.0               2385.0   \n",
       "137                            6245.0               8010.0   \n",
       "138                            2825.0               3505.0   \n",
       "139                            2095.0               2225.0   \n",
       "140                            1555.0               2635.0   \n",
       "\n",
       "         Older Seniors (85+ years)  After-tax income: Average amount ($)  \n",
       "nbh_num                                                                   \n",
       "1                            615.0                               28066.0  \n",
       "2                            300.0                               24122.0  \n",
       "3                            350.0                               28842.0  \n",
       "17                           565.0                               43971.0  \n",
       "19                           140.0                               39000.0  \n",
       "...                            ...                                   ...  \n",
       "133                          160.0                               43854.0  \n",
       "137                         1130.0                               27341.0  \n",
       "138                          560.0                               26865.0  \n",
       "139                          430.0                               28634.0  \n",
       "140                          540.0                               43848.0  \n",
       "\n",
       "[77 rows x 13 columns]"
      ]
     },
     "execution_count": 14,
     "metadata": {},
     "output_type": "execute_result"
    }
   ],
   "source": [
    "df_nbh = df.groupby('nbh_num').mean()\n",
    "df_nbh"
   ]
  },
  {
   "cell_type": "code",
   "execution_count": 15,
   "metadata": {},
   "outputs": [
    {
     "data": {
      "text/plain": [
       "<matplotlib.axes._subplots.AxesSubplot at 0xee0d1f3d00>"
      ]
     },
     "execution_count": 15,
     "metadata": {},
     "output_type": "execute_result"
    },
    {
     "data": {
      "image/png": "[encoded data removed]",
      "text/plain": [
       "<Figure size 432x288 with 2 Axes>"
      ]
     },
     "metadata": {
      "needs_background": "light"
     },
     "output_type": "display_data"
    }
   ],
   "source": [
    "sns.heatmap(df_nbh.corr())"
   ]
  },
  {
   "cell_type": "code",
   "execution_count": 16,
   "metadata": {},
   "outputs": [
    {
     "data": {
      "text/plain": [
       "<matplotlib.axes._subplots.AxesSubplot at 0xee0d1c7490>"
      ]
     },
     "execution_count": 16,
     "metadata": {},
     "output_type": "execute_result"
    },
    {
     "data": {
      "image/png": "[encoded data removed]",
      "text/plain": [
       "<Figure size 432x288 with 1 Axes>"
      ]
     },
     "metadata": {
      "needs_background": "light"
     },
     "output_type": "display_data"
    }
   ],
   "source": [
    "sns.scatterplot(df_nbh.iloc[:,5], df_nbh.iloc[:,2])"
   ]
  },
  {
   "cell_type": "code",
   "execution_count": 17,
   "metadata": {},
   "outputs": [
    {
     "data": {
      "text/plain": [
       "<matplotlib.axes._subplots.AxesSubplot at 0xee0dac9850>"
      ]
     },
     "execution_count": 17,
     "metadata": {},
     "output_type": "execute_result"
    },
    {
     "data": {
      "image/png": "[encoded data removed]",
      "text/plain": [
       "<Figure size 432x288 with 1 Axes>"
      ]
     },
     "metadata": {
      "needs_background": "light"
     },
     "output_type": "display_data"
    }
   ],
   "source": [
    "sns.scatterplot(df_nbh.iloc[:,12], df_nbh.iloc[:,2], label = \"Average Ratings\")"
   ]
  },
  {
   "cell_type": "code",
   "execution_count": 18,
   "metadata": {},
   "outputs": [
    {
     "data": {
      "text/plain": [
       "<matplotlib.axes._subplots.AxesSubplot at 0xee0daf4b80>"
      ]
     },
     "execution_count": 18,
     "metadata": {},
     "output_type": "execute_result"
    },
    {
     "data": {
      "image/png": "[encoded data removed]",
      "text/plain": [
       "<Figure size 432x288 with 1 Axes>"
      ]
     },
     "metadata": {
      "needs_background": "light"
     },
     "output_type": "display_data"
    }
   ],
   "source": [
    "sns.residplot(df_nbh.iloc[:,12], df_nbh.iloc[:,2])"
   ]
  },
  {
   "cell_type": "code",
   "execution_count": 19,
   "metadata": {},
   "outputs": [
    {
     "data": {
      "text/plain": [
       "<matplotlib.axes._subplots.AxesSubplot at 0xee0da9ed60>"
      ]
     },
     "execution_count": 19,
     "metadata": {},
     "output_type": "execute_result"
    },
    {
     "data": {
      "image/png": "[encoded data removed]",
      "text/plain": [
       "<Figure size 432x288 with 1 Axes>"
      ]
     },
     "metadata": {
      "needs_background": "light"
     },
     "output_type": "display_data"
    }
   ],
   "source": [
    "ax1 = sns.distplot(df_nbh.iloc[:,2], hist = False, label = 'Average Rating')\n",
    "sns.distplot(df.iloc[:,5], hist = False, label = 'Total Ratings', ax = ax1)"
   ]
  },
  {
   "cell_type": "code",
   "execution_count": 20,
   "metadata": {},
   "outputs": [],
   "source": [
    "lm_totals = LinearRegression()\n",
    "lm_averaged = LinearRegression()"
   ]
  },
  {
   "cell_type": "code",
   "execution_count": 21,
   "metadata": {},
   "outputs": [],
   "source": [
    "ratings_total = df.iloc[:,5]\n",
    "ratings_averaged = df_nbh.iloc[:,2]"
   ]
  },
  {
   "cell_type": "code",
   "execution_count": 84,
   "metadata": {},
   "outputs": [],
   "source": [
    "predic_total = df.iloc[:,[9,16]]\n",
    "predic_averaged = df_nbh.iloc[:,[3,5,12]]"
   ]
  },
  {
   "cell_type": "code",
   "execution_count": 76,
   "metadata": {},
   "outputs": [
    {
     "data": {
      "text/html": [
       "<div>\n",
       "<style scoped>\n",
       "    .dataframe tbody tr th:only-of-type {\n",
       "        vertical-align: middle;\n",
       "    }\n",
       "\n",
       "    .dataframe tbody tr th {\n",
       "        vertical-align: top;\n",
       "    }\n",
       "\n",
       "    .dataframe thead th {\n",
       "        text-align: right;\n",
       "    }\n",
       "</style>\n",
       "<table border=\"1\" class=\"dataframe\">\n",
       "  <thead>\n",
       "    <tr style=\"text-align: right;\">\n",
       "      <th></th>\n",
       "      <th>CAD / ft²·month</th>\n",
       "      <th>Population density per square kilometre</th>\n",
       "      <th>After-tax income: Average amount ($)</th>\n",
       "    </tr>\n",
       "    <tr>\n",
       "      <th>nbh_num</th>\n",
       "      <th></th>\n",
       "      <th></th>\n",
       "      <th></th>\n",
       "    </tr>\n",
       "  </thead>\n",
       "  <tbody>\n",
       "    <tr>\n",
       "      <th>1</th>\n",
       "      <td>4.015792</td>\n",
       "      <td>1117.0</td>\n",
       "      <td>28066.0</td>\n",
       "    </tr>\n",
       "    <tr>\n",
       "      <th>2</th>\n",
       "      <td>2.916667</td>\n",
       "      <td>7291.0</td>\n",
       "      <td>24122.0</td>\n",
       "    </tr>\n",
       "    <tr>\n",
       "      <th>3</th>\n",
       "      <td>1.333333</td>\n",
       "      <td>3130.0</td>\n",
       "      <td>28842.0</td>\n",
       "    </tr>\n",
       "    <tr>\n",
       "      <th>17</th>\n",
       "      <td>2.652806</td>\n",
       "      <td>4915.0</td>\n",
       "      <td>43971.0</td>\n",
       "    </tr>\n",
       "    <tr>\n",
       "      <th>19</th>\n",
       "      <td>0.389306</td>\n",
       "      <td>4584.0</td>\n",
       "      <td>39000.0</td>\n",
       "    </tr>\n",
       "    <tr>\n",
       "      <th>...</th>\n",
       "      <td>...</td>\n",
       "      <td>...</td>\n",
       "      <td>...</td>\n",
       "    </tr>\n",
       "    <tr>\n",
       "      <th>133</th>\n",
       "      <td>4.000000</td>\n",
       "      <td>2479.0</td>\n",
       "      <td>43854.0</td>\n",
       "    </tr>\n",
       "    <tr>\n",
       "      <th>137</th>\n",
       "      <td>2.551706</td>\n",
       "      <td>4345.0</td>\n",
       "      <td>27341.0</td>\n",
       "    </tr>\n",
       "    <tr>\n",
       "      <th>138</th>\n",
       "      <td>0.981618</td>\n",
       "      <td>7051.0</td>\n",
       "      <td>26865.0</td>\n",
       "    </tr>\n",
       "    <tr>\n",
       "      <th>139</th>\n",
       "      <td>2.063308</td>\n",
       "      <td>5395.0</td>\n",
       "      <td>28634.0</td>\n",
       "    </tr>\n",
       "    <tr>\n",
       "      <th>140</th>\n",
       "      <td>1.553063</td>\n",
       "      <td>2673.0</td>\n",
       "      <td>43848.0</td>\n",
       "    </tr>\n",
       "  </tbody>\n",
       "</table>\n",
       "<p>77 rows × 3 columns</p>\n",
       "</div>"
      ],
      "text/plain": [
       "         CAD / ft²·month  Population density per square kilometre  \\\n",
       "nbh_num                                                             \n",
       "1               4.015792                                   1117.0   \n",
       "2               2.916667                                   7291.0   \n",
       "3               1.333333                                   3130.0   \n",
       "17              2.652806                                   4915.0   \n",
       "19              0.389306                                   4584.0   \n",
       "...                  ...                                      ...   \n",
       "133             4.000000                                   2479.0   \n",
       "137             2.551706                                   4345.0   \n",
       "138             0.981618                                   7051.0   \n",
       "139             2.063308                                   5395.0   \n",
       "140             1.553063                                   2673.0   \n",
       "\n",
       "         After-tax income: Average amount ($)  \n",
       "nbh_num                                        \n",
       "1                                     28066.0  \n",
       "2                                     24122.0  \n",
       "3                                     28842.0  \n",
       "17                                    43971.0  \n",
       "19                                    39000.0  \n",
       "...                                       ...  \n",
       "133                                   43854.0  \n",
       "137                                   27341.0  \n",
       "138                                   26865.0  \n",
       "139                                   28634.0  \n",
       "140                                   43848.0  \n",
       "\n",
       "[77 rows x 3 columns]"
      ]
     },
     "execution_count": 76,
     "metadata": {},
     "output_type": "execute_result"
    }
   ],
   "source": [
    "df_nbh.iloc[:,[3, 5,12]]"
   ]
  },
  {
   "cell_type": "code",
   "execution_count": 85,
   "metadata": {},
   "outputs": [
    {
     "data": {
      "text/plain": [
       "LinearRegression()"
      ]
     },
     "execution_count": 85,
     "metadata": {},
     "output_type": "execute_result"
    }
   ],
   "source": [
    "lm_totals.fit(predic_total, ratings_total)\n",
    "lm_averaged.fit(predic_averaged, ratings_averaged)"
   ]
  },
  {
   "cell_type": "code",
   "execution_count": 61,
   "metadata": {},
   "outputs": [
    {
     "data": {
      "text/plain": [
       "array([5.63814298e-05, 9.23873116e-06])"
      ]
     },
     "execution_count": 61,
     "metadata": {},
     "output_type": "execute_result"
    }
   ],
   "source": [
    "lm_totals.coef_"
   ]
  },
  {
   "cell_type": "code",
   "execution_count": 86,
   "metadata": {},
   "outputs": [],
   "source": [
    "ratings_pt = lm_totals.predict(predic_total)\n",
    "ratings_pa = lm_averaged.predict(predic_averaged)"
   ]
  },
  {
   "cell_type": "code",
   "execution_count": 63,
   "metadata": {},
   "outputs": [
    {
     "data": {
      "text/plain": [
       "array([ 4.89096594e-01,  1.24093721e-02, -2.94824341e-02,  7.47619928e-06,\n",
       "        4.11775058e-06])"
      ]
     },
     "execution_count": 63,
     "metadata": {},
     "output_type": "execute_result"
    }
   ],
   "source": [
    "lm_averaged.coef_"
   ]
  },
  {
   "cell_type": "code",
   "execution_count": 87,
   "metadata": {},
   "outputs": [
    {
     "data": {
      "text/plain": [
       "<matplotlib.axes._subplots.AxesSubplot at 0xee06657820>"
      ]
     },
     "execution_count": 87,
     "metadata": {},
     "output_type": "execute_result"
    },
    {
     "data": {
      "image/png": "[encoded data removed]",
      "text/plain": [
       "<Figure size 432x288 with 1 Axes>"
      ]
     },
     "metadata": {
      "needs_background": "light"
     },
     "output_type": "display_data"
    }
   ],
   "source": [
    "ax2 = sns.distplot(ratings_total, hist = False, label = 'Total Ratings')\n",
    "sns.distplot(ratings_pt, hist = False, label = 'Predicted Ratings', ax = ax2)"
   ]
  },
  {
   "cell_type": "code",
   "execution_count": 88,
   "metadata": {},
   "outputs": [
    {
     "data": {
      "text/plain": [
       "<matplotlib.axes._subplots.AxesSubplot at 0xee066f8130>"
      ]
     },
     "execution_count": 88,
     "metadata": {},
     "output_type": "execute_result"
    },
    {
     "data": {
      "image/png": "[encoded data removed]",
      "text/plain": [
       "<Figure size 432x288 with 1 Axes>"
      ]
     },
     "metadata": {
      "needs_background": "light"
     },
     "output_type": "display_data"
    }
   ],
   "source": [
    "ax3 = sns.distplot(ratings_averaged, hist = False, label = 'Averaged Ratings')\n",
    "sns.distplot(ratings_pa, hist = False, label = 'Predicted Ratings', ax = ax3)"
   ]
  },
  {
   "cell_type": "code",
   "execution_count": 30,
   "metadata": {},
   "outputs": [],
   "source": [
    "def PlotPolly(model, independent_variable, dependent_variabble, Name):\n",
    "    x_new = np.linspace(18000, 145000, 100)\n",
    "    y_new = model(x_new)\n",
    "\n",
    "    plt.plot(independent_variable, dependent_variabble, '.', x_new, y_new, '-')\n",
    "    plt.title('Polynomial Fit with Matplotlib for Price ~ Length')\n",
    "    ax = plt.gca()\n",
    "    ax.set_facecolor((0.898, 0.898, 0.898))\n",
    "    fig = plt.gcf()\n",
    "    plt.xlabel(Name)\n",
    "    plt.ylabel('Ratings')\n",
    "\n",
    "    plt.show()\n",
    "    plt.close()"
   ]
  },
  {
   "cell_type": "code",
   "execution_count": 43,
   "metadata": {},
   "outputs": [
    {
     "name": "stdout",
     "output_type": "stream",
     "text": [
      "           3             2\n",
      "8.807e-15 x - 2.239e-09 x + 0.0001731 x + 3.825\n"
     ]
    },
    {
     "data": {
      "image/png": "[encoded data removed]",
      "text/plain": [
       "<Figure size 432x288 with 1 Axes>"
      ]
     },
     "metadata": {
      "needs_background": "light"
     },
     "output_type": "display_data"
    }
   ],
   "source": [
    "f = np.polyfit(df_nbh.iloc[:,12], df_nbh.iloc[:,2], 3)\n",
    "p = np.poly1d(f)\n",
    "print(p)\n",
    "PlotPolly(p, df_nbh.iloc[:,12], df_nbh.iloc[:,2], 'After tax income')"
   ]
  },
  {
   "cell_type": "code",
   "execution_count": 122,
   "metadata": {},
   "outputs": [
    {
     "name": "stdout",
     "output_type": "stream",
     "text": [
      "           5             4             3             2\n",
      "5.087e-24 x - 2.102e-18 x + 3.326e-13 x - 2.516e-08 x + 0.0009108 x - 4.729\n"
     ]
    },
    {
     "data": {
      "image/png": "[encoded data removed]",
      "text/plain": [
       "<Figure size 432x288 with 1 Axes>"
      ]
     },
     "metadata": {
      "needs_background": "light"
     },
     "output_type": "display_data"
    }
   ],
   "source": [
    "f2 = np.polyfit(df.iloc[:,16], df.iloc[:,5], 5)\n",
    "p2 = np.poly1d(f2)\n",
    "print(p2)\n",
    "PlotPolly(p2, df.iloc[:,16], df.iloc[:,5], 'After tax income')"
   ]
  },
  {
   "cell_type": "code",
   "execution_count": 254,
   "metadata": {},
   "outputs": [
    {
     "data": {
      "text/html": [
       "<div>\n",
       "<style scoped>\n",
       "    .dataframe tbody tr th:only-of-type {\n",
       "        vertical-align: middle;\n",
       "    }\n",
       "\n",
       "    .dataframe tbody tr th {\n",
       "        vertical-align: top;\n",
       "    }\n",
       "\n",
       "    .dataframe thead th {\n",
       "        text-align: right;\n",
       "    }\n",
       "</style>\n",
       "<table border=\"1\" class=\"dataframe\">\n",
       "  <thead>\n",
       "    <tr style=\"text-align: right;\">\n",
       "      <th></th>\n",
       "      <th>Children (0-14 years)</th>\n",
       "      <th>Youth (15-24 years)</th>\n",
       "      <th>Working Age (25-54 years)</th>\n",
       "      <th>Pre-retirement (55-64 years)</th>\n",
       "      <th>Seniors (65+ years)</th>\n",
       "      <th>Older Seniors (85+ years)</th>\n",
       "    </tr>\n",
       "    <tr>\n",
       "      <th>nbh_num</th>\n",
       "      <th></th>\n",
       "      <th></th>\n",
       "      <th></th>\n",
       "      <th></th>\n",
       "      <th></th>\n",
       "      <th></th>\n",
       "    </tr>\n",
       "  </thead>\n",
       "  <tbody>\n",
       "    <tr>\n",
       "      <th>1</th>\n",
       "      <td>5060.0</td>\n",
       "      <td>5445.0</td>\n",
       "      <td>13845.0</td>\n",
       "      <td>3990.0</td>\n",
       "      <td>4980.0</td>\n",
       "      <td>615.0</td>\n",
       "    </tr>\n",
       "    <tr>\n",
       "      <th>2</th>\n",
       "      <td>7090.0</td>\n",
       "      <td>5240.0</td>\n",
       "      <td>13615.0</td>\n",
       "      <td>3475.0</td>\n",
       "      <td>3560.0</td>\n",
       "      <td>300.0</td>\n",
       "    </tr>\n",
       "    <tr>\n",
       "      <th>3</th>\n",
       "      <td>1730.0</td>\n",
       "      <td>1410.0</td>\n",
       "      <td>4160.0</td>\n",
       "      <td>1195.0</td>\n",
       "      <td>1880.0</td>\n",
       "      <td>350.0</td>\n",
       "    </tr>\n",
       "    <tr>\n",
       "      <th>17</th>\n",
       "      <td>3505.0</td>\n",
       "      <td>3010.0</td>\n",
       "      <td>17695.0</td>\n",
       "      <td>4620.0</td>\n",
       "      <td>5160.0</td>\n",
       "      <td>565.0</td>\n",
       "    </tr>\n",
       "    <tr>\n",
       "      <th>19</th>\n",
       "      <td>1335.0</td>\n",
       "      <td>1130.0</td>\n",
       "      <td>4705.0</td>\n",
       "      <td>1520.0</td>\n",
       "      <td>1405.0</td>\n",
       "      <td>140.0</td>\n",
       "    </tr>\n",
       "    <tr>\n",
       "      <th>...</th>\n",
       "      <td>...</td>\n",
       "      <td>...</td>\n",
       "      <td>...</td>\n",
       "      <td>...</td>\n",
       "      <td>...</td>\n",
       "      <td>...</td>\n",
       "    </tr>\n",
       "    <tr>\n",
       "      <th>133</th>\n",
       "      <td>2150.0</td>\n",
       "      <td>1850.0</td>\n",
       "      <td>5030.0</td>\n",
       "      <td>1955.0</td>\n",
       "      <td>2385.0</td>\n",
       "      <td>160.0</td>\n",
       "    </tr>\n",
       "    <tr>\n",
       "      <th>137</th>\n",
       "      <td>9625.0</td>\n",
       "      <td>7660.0</td>\n",
       "      <td>21945.0</td>\n",
       "      <td>6245.0</td>\n",
       "      <td>8010.0</td>\n",
       "      <td>1130.0</td>\n",
       "    </tr>\n",
       "    <tr>\n",
       "      <th>138</th>\n",
       "      <td>4180.0</td>\n",
       "      <td>3130.0</td>\n",
       "      <td>9180.0</td>\n",
       "      <td>2825.0</td>\n",
       "      <td>3505.0</td>\n",
       "      <td>560.0</td>\n",
       "    </tr>\n",
       "    <tr>\n",
       "      <th>139</th>\n",
       "      <td>3365.0</td>\n",
       "      <td>2360.0</td>\n",
       "      <td>6685.0</td>\n",
       "      <td>2095.0</td>\n",
       "      <td>2225.0</td>\n",
       "      <td>430.0</td>\n",
       "    </tr>\n",
       "    <tr>\n",
       "      <th>140</th>\n",
       "      <td>1295.0</td>\n",
       "      <td>1065.0</td>\n",
       "      <td>3370.0</td>\n",
       "      <td>1555.0</td>\n",
       "      <td>2635.0</td>\n",
       "      <td>540.0</td>\n",
       "    </tr>\n",
       "  </tbody>\n",
       "</table>\n",
       "<p>77 rows × 6 columns</p>\n",
       "</div>"
      ],
      "text/plain": [
       "         Children (0-14 years)  Youth (15-24 years)  \\\n",
       "nbh_num                                               \n",
       "1                       5060.0               5445.0   \n",
       "2                       7090.0               5240.0   \n",
       "3                       1730.0               1410.0   \n",
       "17                      3505.0               3010.0   \n",
       "19                      1335.0               1130.0   \n",
       "...                        ...                  ...   \n",
       "133                     2150.0               1850.0   \n",
       "137                     9625.0               7660.0   \n",
       "138                     4180.0               3130.0   \n",
       "139                     3365.0               2360.0   \n",
       "140                     1295.0               1065.0   \n",
       "\n",
       "         Working Age (25-54 years)  Pre-retirement (55-64 years)  \\\n",
       "nbh_num                                                            \n",
       "1                          13845.0                        3990.0   \n",
       "2                          13615.0                        3475.0   \n",
       "3                           4160.0                        1195.0   \n",
       "17                         17695.0                        4620.0   \n",
       "19                          4705.0                        1520.0   \n",
       "...                            ...                           ...   \n",
       "133                         5030.0                        1955.0   \n",
       "137                        21945.0                        6245.0   \n",
       "138                         9180.0                        2825.0   \n",
       "139                         6685.0                        2095.0   \n",
       "140                         3370.0                        1555.0   \n",
       "\n",
       "         Seniors (65+ years)  Older Seniors (85+ years)  \n",
       "nbh_num                                                  \n",
       "1                     4980.0                      615.0  \n",
       "2                     3560.0                      300.0  \n",
       "3                     1880.0                      350.0  \n",
       "17                    5160.0                      565.0  \n",
       "19                    1405.0                      140.0  \n",
       "...                      ...                        ...  \n",
       "133                   2385.0                      160.0  \n",
       "137                   8010.0                     1130.0  \n",
       "138                   3505.0                      560.0  \n",
       "139                   2225.0                      430.0  \n",
       "140                   2635.0                      540.0  \n",
       "\n",
       "[77 rows x 6 columns]"
      ]
     },
     "execution_count": 254,
     "metadata": {},
     "output_type": "execute_result"
    }
   ],
   "source": [
    "x_averaged = df_nbh.iloc[:,range(6,12)]\n",
    "x_averaged"
   ]
  },
  {
   "cell_type": "code",
   "execution_count": 260,
   "metadata": {},
   "outputs": [
    {
     "data": {
      "text/plain": [
       "array([ 5060.,  5445., 13845.,  3990.,  4980.,   615.])"
      ]
     },
     "execution_count": 260,
     "metadata": {},
     "output_type": "execute_result"
    }
   ],
   "source": [
    "np.array(x_averaged.loc[1])"
   ]
  },
  {
   "cell_type": "code",
   "execution_count": 220,
   "metadata": {},
   "outputs": [],
   "source": [
    "poly_reg = LinearRegression()"
   ]
  },
  {
   "cell_type": "code",
   "execution_count": 258,
   "metadata": {},
   "outputs": [
    {
     "data": {
      "text/plain": [
       "<matplotlib.axes._subplots.AxesSubplot at 0xee152346d0>"
      ]
     },
     "execution_count": 258,
     "metadata": {},
     "output_type": "execute_result"
    },
    {
     "data": {
      "image/png": "[encoded data removed]",
      "text/plain": [
       "<Figure size 432x288 with 1 Axes>"
      ]
     },
     "metadata": {
      "needs_background": "light"
     },
     "output_type": "display_data"
    }
   ],
   "source": [
    "pr = PolynomialFeatures(degree = 3)\n",
    "Z_pr = pr.fit_transform(x_averaged)\n",
    "poly_reg.fit(Z_pr, ratings_averaged)\n",
    "poly_predict=poly_reg.predict(Z_pr)\n",
    "ax4 = sns.distplot(ratings_averaged, hist = False, label = 'Averaged Ratings')\n",
    "sns.distplot(poly_predict, hist = False, label = 'Predicted Ratings', ax = ax4)"
   ]
  },
  {
   "cell_type": "code",
   "execution_count": 266,
   "metadata": {},
   "outputs": [
    {
     "data": {
      "text/plain": [
       "array([6.80000039])"
      ]
     },
     "execution_count": 266,
     "metadata": {},
     "output_type": "execute_result"
    }
   ],
   "source": [
    "poly_reg.predict(pr.fit_transform(np.array(x_averaged.loc[3]).reshape(1,-1)))"
   ]
  },
  {
   "cell_type": "code",
   "execution_count": 264,
   "metadata": {},
   "outputs": [
    {
     "data": {
      "text/plain": [
       "array([[1.00000000e+00, 5.06000000e+03, 5.44500000e+03, 1.38450000e+04,\n",
       "        3.99000000e+03, 4.98000000e+03, 6.15000000e+02, 2.56036000e+07,\n",
       "        2.75517000e+07, 7.00557000e+07, 2.01894000e+07, 2.51988000e+07,\n",
       "        3.11190000e+06, 2.96480250e+07, 7.53860250e+07, 2.17255500e+07,\n",
       "        2.71161000e+07, 3.34867500e+06, 1.91684025e+08, 5.52415500e+07,\n",
       "        6.89481000e+07, 8.51467500e+06, 1.59201000e+07, 1.98702000e+07,\n",
       "        2.45385000e+06, 2.48004000e+07, 3.06270000e+06, 3.78225000e+05,\n",
       "        1.29554216e+11, 1.39411602e+11, 3.54481842e+11, 1.02158364e+11,\n",
       "        1.27505928e+11, 1.57462140e+10, 1.50019006e+11, 3.81453286e+11,\n",
       "        1.09931283e+11, 1.37207466e+11, 1.69442955e+10, 9.69921166e+11,\n",
       "        2.79522243e+11, 3.48877386e+11, 4.30842555e+10, 8.05557060e+10,\n",
       "        1.00543212e+11, 1.24164810e+10, 1.25490024e+11, 1.54972620e+10,\n",
       "        1.91381850e+09, 1.61433496e+11, 4.10476906e+11, 1.18295620e+11,\n",
       "        1.47647164e+11, 1.82335354e+10, 1.04371952e+12, 3.00790240e+11,\n",
       "        3.75422404e+11, 4.63624054e+10, 8.66849445e+10, 1.08193239e+11,\n",
       "        1.33612132e+10, 1.35038178e+11, 1.66764015e+10, 2.05943512e+09,\n",
       "        2.65386533e+12, 7.64819260e+11, 9.54586444e+11, 1.17885675e+11,\n",
       "        2.20413784e+11, 2.75102919e+11, 3.39735532e+10, 3.43361538e+11,\n",
       "        4.24030815e+10, 5.23652512e+09, 6.35211990e+10, 7.92820980e+10,\n",
       "        9.79086150e+09, 9.89535960e+10, 1.22201730e+10, 1.50911775e+09,\n",
       "        1.23505992e+11, 1.52522460e+10, 1.88356050e+09, 2.32608375e+08]])"
      ]
     },
     "execution_count": 264,
     "metadata": {},
     "output_type": "execute_result"
    }
   ],
   "source": [
    "pr.fit_transform(np.array(x_averaged.loc[1]).reshape(1,-1))"
   ]
  },
  {
   "cell_type": "code",
   "execution_count": 263,
   "metadata": {},
   "outputs": [
    {
     "data": {
      "text/plain": [
       "array([[ 5060.,  5445., 13845.,  3990.,  4980.,   615.]])"
      ]
     },
     "execution_count": 263,
     "metadata": {},
     "output_type": "execute_result"
    }
   ],
   "source": [
    "np.array(x_averaged.loc[1]).reshape(1,-1)"
   ]
  },
  {
   "cell_type": "code",
   "execution_count": null,
   "metadata": {},
   "outputs": [],
   "source": []
  }
 ],
 "metadata": {
  "kernelspec": {
   "display_name": "Python 3",
   "language": "python",
   "name": "python3"
  },
  "language_info": {
   "codemirror_mode": {
    "name": "ipython",
    "version": 3
   },
   "file_extension": ".py",
   "mimetype": "text/x-python",
   "name": "python",
   "nbconvert_exporter": "python",
   "pygments_lexer": "ipython3",
   "version": "3.8.3"
  }
 },
 "nbformat": 4,
 "nbformat_minor": 4
}
