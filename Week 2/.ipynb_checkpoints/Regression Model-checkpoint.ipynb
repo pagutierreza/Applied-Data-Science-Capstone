{
 "cells": [
  {
   "cell_type": "markdown",
   "metadata": {},
   "source": [
    "# <div align = \"center\">Applied Data Science Capstone, Week 2<br>Part 2: Regression Model</div>"
   ]
  },
  {
   "cell_type": "markdown",
   "metadata": {},
   "source": [
    "In this code I will develop a regression model to determine the restaurant rating based on the neighbourhood and its category."
   ]
  },
  {
   "cell_type": "code",
   "execution_count": 320,
   "metadata": {},
   "outputs": [],
   "source": [
    "import pandas as pd\n",
    "import numpy as np\n",
    "import matplotlib.pyplot as plt\n",
    "import seaborn as sns\n",
    "from sklearn.linear_model import LinearRegression\n",
    "from sklearn.preprocessing import PolynomialFeatures\n",
    "from sklearn.model_selection import train_test_split\n",
    "from sklearn.pipeline import Pipeline\n",
    "from sklearn.preprocessing import StandardScaler\n",
    "from sklearn.linear_model import Ridge\n",
    "from sklearn.metrics import mean_squared_error, r2_score\n",
    "from sklearn.model_selection import GridSearchCV"
   ]
  },
  {
   "cell_type": "code",
   "execution_count": 2,
   "metadata": {},
   "outputs": [
    {
     "data": {
      "text/html": [
       "<div>\n",
       "<style scoped>\n",
       "    .dataframe tbody tr th:only-of-type {\n",
       "        vertical-align: middle;\n",
       "    }\n",
       "\n",
       "    .dataframe tbody tr th {\n",
       "        vertical-align: top;\n",
       "    }\n",
       "\n",
       "    .dataframe thead th {\n",
       "        text-align: right;\n",
       "    }\n",
       "</style>\n",
       "<table border=\"1\" class=\"dataframe\">\n",
       "  <thead>\n",
       "    <tr style=\"text-align: right;\">\n",
       "      <th></th>\n",
       "      <th>nbh_num</th>\n",
       "      <th>cat_1</th>\n",
       "      <th>cat_2</th>\n",
       "      <th>price_tier</th>\n",
       "      <th>likes</th>\n",
       "      <th>rating</th>\n",
       "      <th>CAD / ft²·month</th>\n",
       "      <th>Neighbourhood</th>\n",
       "      <th>Population 2016</th>\n",
       "      <th>Population density per square kilometre</th>\n",
       "      <th>Children (0-14 years)</th>\n",
       "      <th>Youth (15-24 years)</th>\n",
       "      <th>Working Age (25-54 years)</th>\n",
       "      <th>Pre-retirement (55-64 years)</th>\n",
       "      <th>Seniors (65+ years)</th>\n",
       "      <th>Older Seniors (85+ years)</th>\n",
       "      <th>After-tax income: Average amount ($)</th>\n",
       "    </tr>\n",
       "  </thead>\n",
       "  <tbody>\n",
       "    <tr>\n",
       "      <th>0</th>\n",
       "      <td>1</td>\n",
       "      <td>Chinese Restaurant</td>\n",
       "      <td>Buffet</td>\n",
       "      <td>1</td>\n",
       "      <td>37</td>\n",
       "      <td>7.2</td>\n",
       "      <td>4.015792</td>\n",
       "      <td>West Humber-Clairville</td>\n",
       "      <td>33312</td>\n",
       "      <td>1117</td>\n",
       "      <td>5060</td>\n",
       "      <td>5445</td>\n",
       "      <td>13845</td>\n",
       "      <td>3990</td>\n",
       "      <td>4980</td>\n",
       "      <td>615</td>\n",
       "      <td>28066</td>\n",
       "    </tr>\n",
       "    <tr>\n",
       "      <th>1</th>\n",
       "      <td>1</td>\n",
       "      <td>Burger Joint</td>\n",
       "      <td>None</td>\n",
       "      <td>1</td>\n",
       "      <td>5</td>\n",
       "      <td>7.1</td>\n",
       "      <td>4.015792</td>\n",
       "      <td>West Humber-Clairville</td>\n",
       "      <td>33312</td>\n",
       "      <td>1117</td>\n",
       "      <td>5060</td>\n",
       "      <td>5445</td>\n",
       "      <td>13845</td>\n",
       "      <td>3990</td>\n",
       "      <td>4980</td>\n",
       "      <td>615</td>\n",
       "      <td>28066</td>\n",
       "    </tr>\n",
       "    <tr>\n",
       "      <th>2</th>\n",
       "      <td>1</td>\n",
       "      <td>Mediterranean Restaurant</td>\n",
       "      <td>Turkish Restaurant</td>\n",
       "      <td>2</td>\n",
       "      <td>6</td>\n",
       "      <td>6.2</td>\n",
       "      <td>4.015792</td>\n",
       "      <td>West Humber-Clairville</td>\n",
       "      <td>33312</td>\n",
       "      <td>1117</td>\n",
       "      <td>5060</td>\n",
       "      <td>5445</td>\n",
       "      <td>13845</td>\n",
       "      <td>3990</td>\n",
       "      <td>4980</td>\n",
       "      <td>615</td>\n",
       "      <td>28066</td>\n",
       "    </tr>\n",
       "    <tr>\n",
       "      <th>3</th>\n",
       "      <td>1</td>\n",
       "      <td>Sandwich Place</td>\n",
       "      <td>Fast Food Restaurant</td>\n",
       "      <td>1</td>\n",
       "      <td>1</td>\n",
       "      <td>6.2</td>\n",
       "      <td>4.015792</td>\n",
       "      <td>West Humber-Clairville</td>\n",
       "      <td>33312</td>\n",
       "      <td>1117</td>\n",
       "      <td>5060</td>\n",
       "      <td>5445</td>\n",
       "      <td>13845</td>\n",
       "      <td>3990</td>\n",
       "      <td>4980</td>\n",
       "      <td>615</td>\n",
       "      <td>28066</td>\n",
       "    </tr>\n",
       "    <tr>\n",
       "      <th>4</th>\n",
       "      <td>1</td>\n",
       "      <td>Restaurant</td>\n",
       "      <td>None</td>\n",
       "      <td>2</td>\n",
       "      <td>17</td>\n",
       "      <td>6.6</td>\n",
       "      <td>4.015792</td>\n",
       "      <td>West Humber-Clairville</td>\n",
       "      <td>33312</td>\n",
       "      <td>1117</td>\n",
       "      <td>5060</td>\n",
       "      <td>5445</td>\n",
       "      <td>13845</td>\n",
       "      <td>3990</td>\n",
       "      <td>4980</td>\n",
       "      <td>615</td>\n",
       "      <td>28066</td>\n",
       "    </tr>\n",
       "  </tbody>\n",
       "</table>\n",
       "</div>"
      ],
      "text/plain": [
       "   nbh_num                     cat_1                 cat_2  price_tier  likes  \\\n",
       "0        1        Chinese Restaurant                Buffet           1     37   \n",
       "1        1              Burger Joint                  None           1      5   \n",
       "2        1  Mediterranean Restaurant    Turkish Restaurant           2      6   \n",
       "3        1            Sandwich Place  Fast Food Restaurant           1      1   \n",
       "4        1                Restaurant                  None           2     17   \n",
       "\n",
       "   rating  CAD / ft²·month           Neighbourhood  Population 2016  \\\n",
       "0     7.2         4.015792  West Humber-Clairville            33312   \n",
       "1     7.1         4.015792  West Humber-Clairville            33312   \n",
       "2     6.2         4.015792  West Humber-Clairville            33312   \n",
       "3     6.2         4.015792  West Humber-Clairville            33312   \n",
       "4     6.6         4.015792  West Humber-Clairville            33312   \n",
       "\n",
       "   Population density per square kilometre  Children (0-14 years)  \\\n",
       "0                                     1117                   5060   \n",
       "1                                     1117                   5060   \n",
       "2                                     1117                   5060   \n",
       "3                                     1117                   5060   \n",
       "4                                     1117                   5060   \n",
       "\n",
       "   Youth (15-24 years)  Working Age (25-54 years)  \\\n",
       "0                 5445                      13845   \n",
       "1                 5445                      13845   \n",
       "2                 5445                      13845   \n",
       "3                 5445                      13845   \n",
       "4                 5445                      13845   \n",
       "\n",
       "   Pre-retirement (55-64 years)  Seniors (65+ years)  \\\n",
       "0                          3990                 4980   \n",
       "1                          3990                 4980   \n",
       "2                          3990                 4980   \n",
       "3                          3990                 4980   \n",
       "4                          3990                 4980   \n",
       "\n",
       "   Older Seniors (85+ years)  After-tax income: Average amount ($)  \n",
       "0                        615                                 28066  \n",
       "1                        615                                 28066  \n",
       "2                        615                                 28066  \n",
       "3                        615                                 28066  \n",
       "4                        615                                 28066  "
      ]
     },
     "execution_count": 2,
     "metadata": {},
     "output_type": "execute_result"
    }
   ],
   "source": [
    "df = pd.read_csv('ratings.csv')\n",
    "df.head()"
   ]
  },
  {
   "cell_type": "code",
   "execution_count": 3,
   "metadata": {},
   "outputs": [],
   "source": [
    "#Create the features used for the model, drop colums that will not be used:\n",
    "df.drop(['cat_2', 'Neighbourhood'], axis = 1, inplace = True)"
   ]
  },
  {
   "cell_type": "code",
   "execution_count": 4,
   "metadata": {},
   "outputs": [
    {
     "data": {
      "text/html": [
       "<div>\n",
       "<style scoped>\n",
       "    .dataframe tbody tr th:only-of-type {\n",
       "        vertical-align: middle;\n",
       "    }\n",
       "\n",
       "    .dataframe tbody tr th {\n",
       "        vertical-align: top;\n",
       "    }\n",
       "\n",
       "    .dataframe thead th {\n",
       "        text-align: right;\n",
       "    }\n",
       "</style>\n",
       "<table border=\"1\" class=\"dataframe\">\n",
       "  <thead>\n",
       "    <tr style=\"text-align: right;\">\n",
       "      <th></th>\n",
       "      <th>nbh_num</th>\n",
       "      <th>cat_1</th>\n",
       "      <th>price_tier</th>\n",
       "      <th>likes</th>\n",
       "      <th>rating</th>\n",
       "      <th>CAD / ft²·month</th>\n",
       "      <th>Population 2016</th>\n",
       "      <th>Population density per square kilometre</th>\n",
       "      <th>Children (0-14 years)</th>\n",
       "      <th>Youth (15-24 years)</th>\n",
       "      <th>Working Age (25-54 years)</th>\n",
       "      <th>Pre-retirement (55-64 years)</th>\n",
       "      <th>Seniors (65+ years)</th>\n",
       "      <th>Older Seniors (85+ years)</th>\n",
       "      <th>After-tax income: Average amount ($)</th>\n",
       "    </tr>\n",
       "  </thead>\n",
       "  <tbody>\n",
       "    <tr>\n",
       "      <th>0</th>\n",
       "      <td>1</td>\n",
       "      <td>Chinese Restaurant</td>\n",
       "      <td>1</td>\n",
       "      <td>37</td>\n",
       "      <td>7.2</td>\n",
       "      <td>4.015792</td>\n",
       "      <td>33312</td>\n",
       "      <td>1117</td>\n",
       "      <td>5060</td>\n",
       "      <td>5445</td>\n",
       "      <td>13845</td>\n",
       "      <td>3990</td>\n",
       "      <td>4980</td>\n",
       "      <td>615</td>\n",
       "      <td>28066</td>\n",
       "    </tr>\n",
       "    <tr>\n",
       "      <th>1</th>\n",
       "      <td>1</td>\n",
       "      <td>Burger Joint</td>\n",
       "      <td>1</td>\n",
       "      <td>5</td>\n",
       "      <td>7.1</td>\n",
       "      <td>4.015792</td>\n",
       "      <td>33312</td>\n",
       "      <td>1117</td>\n",
       "      <td>5060</td>\n",
       "      <td>5445</td>\n",
       "      <td>13845</td>\n",
       "      <td>3990</td>\n",
       "      <td>4980</td>\n",
       "      <td>615</td>\n",
       "      <td>28066</td>\n",
       "    </tr>\n",
       "    <tr>\n",
       "      <th>2</th>\n",
       "      <td>1</td>\n",
       "      <td>Mediterranean Restaurant</td>\n",
       "      <td>2</td>\n",
       "      <td>6</td>\n",
       "      <td>6.2</td>\n",
       "      <td>4.015792</td>\n",
       "      <td>33312</td>\n",
       "      <td>1117</td>\n",
       "      <td>5060</td>\n",
       "      <td>5445</td>\n",
       "      <td>13845</td>\n",
       "      <td>3990</td>\n",
       "      <td>4980</td>\n",
       "      <td>615</td>\n",
       "      <td>28066</td>\n",
       "    </tr>\n",
       "    <tr>\n",
       "      <th>3</th>\n",
       "      <td>1</td>\n",
       "      <td>Sandwich Place</td>\n",
       "      <td>1</td>\n",
       "      <td>1</td>\n",
       "      <td>6.2</td>\n",
       "      <td>4.015792</td>\n",
       "      <td>33312</td>\n",
       "      <td>1117</td>\n",
       "      <td>5060</td>\n",
       "      <td>5445</td>\n",
       "      <td>13845</td>\n",
       "      <td>3990</td>\n",
       "      <td>4980</td>\n",
       "      <td>615</td>\n",
       "      <td>28066</td>\n",
       "    </tr>\n",
       "    <tr>\n",
       "      <th>4</th>\n",
       "      <td>1</td>\n",
       "      <td>Restaurant</td>\n",
       "      <td>2</td>\n",
       "      <td>17</td>\n",
       "      <td>6.6</td>\n",
       "      <td>4.015792</td>\n",
       "      <td>33312</td>\n",
       "      <td>1117</td>\n",
       "      <td>5060</td>\n",
       "      <td>5445</td>\n",
       "      <td>13845</td>\n",
       "      <td>3990</td>\n",
       "      <td>4980</td>\n",
       "      <td>615</td>\n",
       "      <td>28066</td>\n",
       "    </tr>\n",
       "  </tbody>\n",
       "</table>\n",
       "</div>"
      ],
      "text/plain": [
       "   nbh_num                     cat_1  price_tier  likes  rating  \\\n",
       "0        1        Chinese Restaurant           1     37     7.2   \n",
       "1        1              Burger Joint           1      5     7.1   \n",
       "2        1  Mediterranean Restaurant           2      6     6.2   \n",
       "3        1            Sandwich Place           1      1     6.2   \n",
       "4        1                Restaurant           2     17     6.6   \n",
       "\n",
       "   CAD / ft²·month  Population 2016  Population density per square kilometre  \\\n",
       "0         4.015792            33312                                     1117   \n",
       "1         4.015792            33312                                     1117   \n",
       "2         4.015792            33312                                     1117   \n",
       "3         4.015792            33312                                     1117   \n",
       "4         4.015792            33312                                     1117   \n",
       "\n",
       "   Children (0-14 years)  Youth (15-24 years)  Working Age (25-54 years)  \\\n",
       "0                   5060                 5445                      13845   \n",
       "1                   5060                 5445                      13845   \n",
       "2                   5060                 5445                      13845   \n",
       "3                   5060                 5445                      13845   \n",
       "4                   5060                 5445                      13845   \n",
       "\n",
       "   Pre-retirement (55-64 years)  Seniors (65+ years)  \\\n",
       "0                          3990                 4980   \n",
       "1                          3990                 4980   \n",
       "2                          3990                 4980   \n",
       "3                          3990                 4980   \n",
       "4                          3990                 4980   \n",
       "\n",
       "   Older Seniors (85+ years)  After-tax income: Average amount ($)  \n",
       "0                        615                                 28066  \n",
       "1                        615                                 28066  \n",
       "2                        615                                 28066  \n",
       "3                        615                                 28066  \n",
       "4                        615                                 28066  "
      ]
     },
     "execution_count": 4,
     "metadata": {},
     "output_type": "execute_result"
    }
   ],
   "source": [
    "df.head()"
   ]
  },
  {
   "cell_type": "code",
   "execution_count": 204,
   "metadata": {},
   "outputs": [
    {
     "data": {
      "text/html": [
       "<div>\n",
       "<style scoped>\n",
       "    .dataframe tbody tr th:only-of-type {\n",
       "        vertical-align: middle;\n",
       "    }\n",
       "\n",
       "    .dataframe tbody tr th {\n",
       "        vertical-align: top;\n",
       "    }\n",
       "\n",
       "    .dataframe thead th {\n",
       "        text-align: right;\n",
       "    }\n",
       "</style>\n",
       "<table border=\"1\" class=\"dataframe\">\n",
       "  <thead>\n",
       "    <tr style=\"text-align: right;\">\n",
       "      <th></th>\n",
       "      <th>nbh_num</th>\n",
       "      <th>CAD / ft²·month</th>\n",
       "      <th>Population 2016</th>\n",
       "      <th>Population density per square kilometre</th>\n",
       "      <th>Children (0-14 years)</th>\n",
       "      <th>Youth (15-24 years)</th>\n",
       "      <th>Working Age (25-54 years)</th>\n",
       "      <th>Pre-retirement (55-64 years)</th>\n",
       "      <th>Seniors (65+ years)</th>\n",
       "      <th>Older Seniors (85+ years)</th>\n",
       "      <th>After-tax income: Average amount ($)</th>\n",
       "    </tr>\n",
       "  </thead>\n",
       "  <tbody>\n",
       "    <tr>\n",
       "      <th>0</th>\n",
       "      <td>1</td>\n",
       "      <td>4.015792</td>\n",
       "      <td>33312</td>\n",
       "      <td>1117</td>\n",
       "      <td>5060</td>\n",
       "      <td>5445</td>\n",
       "      <td>13845</td>\n",
       "      <td>3990</td>\n",
       "      <td>4980</td>\n",
       "      <td>615</td>\n",
       "      <td>28066</td>\n",
       "    </tr>\n",
       "    <tr>\n",
       "      <th>1</th>\n",
       "      <td>1</td>\n",
       "      <td>4.015792</td>\n",
       "      <td>33312</td>\n",
       "      <td>1117</td>\n",
       "      <td>5060</td>\n",
       "      <td>5445</td>\n",
       "      <td>13845</td>\n",
       "      <td>3990</td>\n",
       "      <td>4980</td>\n",
       "      <td>615</td>\n",
       "      <td>28066</td>\n",
       "    </tr>\n",
       "    <tr>\n",
       "      <th>2</th>\n",
       "      <td>1</td>\n",
       "      <td>4.015792</td>\n",
       "      <td>33312</td>\n",
       "      <td>1117</td>\n",
       "      <td>5060</td>\n",
       "      <td>5445</td>\n",
       "      <td>13845</td>\n",
       "      <td>3990</td>\n",
       "      <td>4980</td>\n",
       "      <td>615</td>\n",
       "      <td>28066</td>\n",
       "    </tr>\n",
       "    <tr>\n",
       "      <th>3</th>\n",
       "      <td>1</td>\n",
       "      <td>4.015792</td>\n",
       "      <td>33312</td>\n",
       "      <td>1117</td>\n",
       "      <td>5060</td>\n",
       "      <td>5445</td>\n",
       "      <td>13845</td>\n",
       "      <td>3990</td>\n",
       "      <td>4980</td>\n",
       "      <td>615</td>\n",
       "      <td>28066</td>\n",
       "    </tr>\n",
       "    <tr>\n",
       "      <th>4</th>\n",
       "      <td>1</td>\n",
       "      <td>4.015792</td>\n",
       "      <td>33312</td>\n",
       "      <td>1117</td>\n",
       "      <td>5060</td>\n",
       "      <td>5445</td>\n",
       "      <td>13845</td>\n",
       "      <td>3990</td>\n",
       "      <td>4980</td>\n",
       "      <td>615</td>\n",
       "      <td>28066</td>\n",
       "    </tr>\n",
       "  </tbody>\n",
       "</table>\n",
       "</div>"
      ],
      "text/plain": [
       "   nbh_num  CAD / ft²·month  Population 2016  \\\n",
       "0        1         4.015792            33312   \n",
       "1        1         4.015792            33312   \n",
       "2        1         4.015792            33312   \n",
       "3        1         4.015792            33312   \n",
       "4        1         4.015792            33312   \n",
       "\n",
       "   Population density per square kilometre  Children (0-14 years)  \\\n",
       "0                                     1117                   5060   \n",
       "1                                     1117                   5060   \n",
       "2                                     1117                   5060   \n",
       "3                                     1117                   5060   \n",
       "4                                     1117                   5060   \n",
       "\n",
       "   Youth (15-24 years)  Working Age (25-54 years)  \\\n",
       "0                 5445                      13845   \n",
       "1                 5445                      13845   \n",
       "2                 5445                      13845   \n",
       "3                 5445                      13845   \n",
       "4                 5445                      13845   \n",
       "\n",
       "   Pre-retirement (55-64 years)  Seniors (65+ years)  \\\n",
       "0                          3990                 4980   \n",
       "1                          3990                 4980   \n",
       "2                          3990                 4980   \n",
       "3                          3990                 4980   \n",
       "4                          3990                 4980   \n",
       "\n",
       "   Older Seniors (85+ years)  After-tax income: Average amount ($)  \n",
       "0                        615                                 28066  \n",
       "1                        615                                 28066  \n",
       "2                        615                                 28066  \n",
       "3                        615                                 28066  \n",
       "4                        615                                 28066  "
      ]
     },
     "execution_count": 204,
     "metadata": {},
     "output_type": "execute_result"
    }
   ],
   "source": [
    "X = df.iloc[:,range(5,15)]\n",
    "X.insert(0, 'nbh_num', df.nbh_num)\n",
    "X.head()"
   ]
  },
  {
   "cell_type": "code",
   "execution_count": 203,
   "metadata": {},
   "outputs": [
    {
     "data": {
      "text/html": [
       "<div>\n",
       "<style scoped>\n",
       "    .dataframe tbody tr th:only-of-type {\n",
       "        vertical-align: middle;\n",
       "    }\n",
       "\n",
       "    .dataframe tbody tr th {\n",
       "        vertical-align: top;\n",
       "    }\n",
       "\n",
       "    .dataframe thead th {\n",
       "        text-align: right;\n",
       "    }\n",
       "</style>\n",
       "<table border=\"1\" class=\"dataframe\">\n",
       "  <thead>\n",
       "    <tr style=\"text-align: right;\">\n",
       "      <th></th>\n",
       "      <th>rating</th>\n",
       "    </tr>\n",
       "  </thead>\n",
       "  <tbody>\n",
       "    <tr>\n",
       "      <th>0</th>\n",
       "      <td>7.2</td>\n",
       "    </tr>\n",
       "    <tr>\n",
       "      <th>1</th>\n",
       "      <td>7.1</td>\n",
       "    </tr>\n",
       "    <tr>\n",
       "      <th>2</th>\n",
       "      <td>6.2</td>\n",
       "    </tr>\n",
       "    <tr>\n",
       "      <th>3</th>\n",
       "      <td>6.2</td>\n",
       "    </tr>\n",
       "    <tr>\n",
       "      <th>4</th>\n",
       "      <td>6.6</td>\n",
       "    </tr>\n",
       "  </tbody>\n",
       "</table>\n",
       "</div>"
      ],
      "text/plain": [
       "   rating\n",
       "0     7.2\n",
       "1     7.1\n",
       "2     6.2\n",
       "3     6.2\n",
       "4     6.6"
      ]
     },
     "execution_count": 203,
     "metadata": {},
     "output_type": "execute_result"
    }
   ],
   "source": [
    "Y = df.rating.to_frame(name = 'rating')\n",
    "Y.head()"
   ]
  },
  {
   "cell_type": "code",
   "execution_count": 125,
   "metadata": {},
   "outputs": [],
   "source": [
    "X_coded = X.join(pd.get_dummies(df[['cat_1']], prefix=\"\", prefix_sep=\"\"), how = 'left')"
   ]
  },
  {
   "cell_type": "code",
   "execution_count": 202,
   "metadata": {},
   "outputs": [
    {
     "data": {
      "text/html": [
       "<div>\n",
       "<style scoped>\n",
       "    .dataframe tbody tr th:only-of-type {\n",
       "        vertical-align: middle;\n",
       "    }\n",
       "\n",
       "    .dataframe tbody tr th {\n",
       "        vertical-align: top;\n",
       "    }\n",
       "\n",
       "    .dataframe thead th {\n",
       "        text-align: right;\n",
       "    }\n",
       "</style>\n",
       "<table border=\"1\" class=\"dataframe\">\n",
       "  <thead>\n",
       "    <tr style=\"text-align: right;\">\n",
       "      <th></th>\n",
       "      <th>nbh_num</th>\n",
       "      <th>CAD / ft²·month</th>\n",
       "      <th>Population 2016</th>\n",
       "      <th>Population density per square kilometre</th>\n",
       "      <th>Children (0-14 years)</th>\n",
       "      <th>Youth (15-24 years)</th>\n",
       "      <th>Working Age (25-54 years)</th>\n",
       "      <th>Pre-retirement (55-64 years)</th>\n",
       "      <th>Seniors (65+ years)</th>\n",
       "      <th>Older Seniors (85+ years)</th>\n",
       "      <th>...</th>\n",
       "      <th>Seafood Restaurant</th>\n",
       "      <th>Steakhouse</th>\n",
       "      <th>Sushi Restaurant</th>\n",
       "      <th>Syrian Restaurant</th>\n",
       "      <th>Taco Place</th>\n",
       "      <th>Thai Restaurant</th>\n",
       "      <th>Vegetarian / Vegan Restaurant</th>\n",
       "      <th>Vietnamese Restaurant</th>\n",
       "      <th>Wings Joint</th>\n",
       "      <th>Xinjiang Restaurant</th>\n",
       "    </tr>\n",
       "  </thead>\n",
       "  <tbody>\n",
       "    <tr>\n",
       "      <th>0</th>\n",
       "      <td>1</td>\n",
       "      <td>4.015792</td>\n",
       "      <td>33312</td>\n",
       "      <td>1117</td>\n",
       "      <td>5060</td>\n",
       "      <td>5445</td>\n",
       "      <td>13845</td>\n",
       "      <td>3990</td>\n",
       "      <td>4980</td>\n",
       "      <td>615</td>\n",
       "      <td>...</td>\n",
       "      <td>0</td>\n",
       "      <td>0</td>\n",
       "      <td>0</td>\n",
       "      <td>0</td>\n",
       "      <td>0</td>\n",
       "      <td>0</td>\n",
       "      <td>0</td>\n",
       "      <td>0</td>\n",
       "      <td>0</td>\n",
       "      <td>0</td>\n",
       "    </tr>\n",
       "    <tr>\n",
       "      <th>1</th>\n",
       "      <td>1</td>\n",
       "      <td>4.015792</td>\n",
       "      <td>33312</td>\n",
       "      <td>1117</td>\n",
       "      <td>5060</td>\n",
       "      <td>5445</td>\n",
       "      <td>13845</td>\n",
       "      <td>3990</td>\n",
       "      <td>4980</td>\n",
       "      <td>615</td>\n",
       "      <td>...</td>\n",
       "      <td>0</td>\n",
       "      <td>0</td>\n",
       "      <td>0</td>\n",
       "      <td>0</td>\n",
       "      <td>0</td>\n",
       "      <td>0</td>\n",
       "      <td>0</td>\n",
       "      <td>0</td>\n",
       "      <td>0</td>\n",
       "      <td>0</td>\n",
       "    </tr>\n",
       "    <tr>\n",
       "      <th>2</th>\n",
       "      <td>1</td>\n",
       "      <td>4.015792</td>\n",
       "      <td>33312</td>\n",
       "      <td>1117</td>\n",
       "      <td>5060</td>\n",
       "      <td>5445</td>\n",
       "      <td>13845</td>\n",
       "      <td>3990</td>\n",
       "      <td>4980</td>\n",
       "      <td>615</td>\n",
       "      <td>...</td>\n",
       "      <td>0</td>\n",
       "      <td>0</td>\n",
       "      <td>0</td>\n",
       "      <td>0</td>\n",
       "      <td>0</td>\n",
       "      <td>0</td>\n",
       "      <td>0</td>\n",
       "      <td>0</td>\n",
       "      <td>0</td>\n",
       "      <td>0</td>\n",
       "    </tr>\n",
       "    <tr>\n",
       "      <th>3</th>\n",
       "      <td>1</td>\n",
       "      <td>4.015792</td>\n",
       "      <td>33312</td>\n",
       "      <td>1117</td>\n",
       "      <td>5060</td>\n",
       "      <td>5445</td>\n",
       "      <td>13845</td>\n",
       "      <td>3990</td>\n",
       "      <td>4980</td>\n",
       "      <td>615</td>\n",
       "      <td>...</td>\n",
       "      <td>0</td>\n",
       "      <td>0</td>\n",
       "      <td>0</td>\n",
       "      <td>0</td>\n",
       "      <td>0</td>\n",
       "      <td>0</td>\n",
       "      <td>0</td>\n",
       "      <td>0</td>\n",
       "      <td>0</td>\n",
       "      <td>0</td>\n",
       "    </tr>\n",
       "    <tr>\n",
       "      <th>4</th>\n",
       "      <td>1</td>\n",
       "      <td>4.015792</td>\n",
       "      <td>33312</td>\n",
       "      <td>1117</td>\n",
       "      <td>5060</td>\n",
       "      <td>5445</td>\n",
       "      <td>13845</td>\n",
       "      <td>3990</td>\n",
       "      <td>4980</td>\n",
       "      <td>615</td>\n",
       "      <td>...</td>\n",
       "      <td>0</td>\n",
       "      <td>0</td>\n",
       "      <td>0</td>\n",
       "      <td>0</td>\n",
       "      <td>0</td>\n",
       "      <td>0</td>\n",
       "      <td>0</td>\n",
       "      <td>0</td>\n",
       "      <td>0</td>\n",
       "      <td>0</td>\n",
       "    </tr>\n",
       "  </tbody>\n",
       "</table>\n",
       "<p>5 rows × 65 columns</p>\n",
       "</div>"
      ],
      "text/plain": [
       "   nbh_num  CAD / ft²·month  Population 2016  \\\n",
       "0        1         4.015792            33312   \n",
       "1        1         4.015792            33312   \n",
       "2        1         4.015792            33312   \n",
       "3        1         4.015792            33312   \n",
       "4        1         4.015792            33312   \n",
       "\n",
       "   Population density per square kilometre  Children (0-14 years)  \\\n",
       "0                                     1117                   5060   \n",
       "1                                     1117                   5060   \n",
       "2                                     1117                   5060   \n",
       "3                                     1117                   5060   \n",
       "4                                     1117                   5060   \n",
       "\n",
       "   Youth (15-24 years)  Working Age (25-54 years)  \\\n",
       "0                 5445                      13845   \n",
       "1                 5445                      13845   \n",
       "2                 5445                      13845   \n",
       "3                 5445                      13845   \n",
       "4                 5445                      13845   \n",
       "\n",
       "   Pre-retirement (55-64 years)  Seniors (65+ years)  \\\n",
       "0                          3990                 4980   \n",
       "1                          3990                 4980   \n",
       "2                          3990                 4980   \n",
       "3                          3990                 4980   \n",
       "4                          3990                 4980   \n",
       "\n",
       "   Older Seniors (85+ years)  ...  Seafood Restaurant  Steakhouse  \\\n",
       "0                        615  ...                   0           0   \n",
       "1                        615  ...                   0           0   \n",
       "2                        615  ...                   0           0   \n",
       "3                        615  ...                   0           0   \n",
       "4                        615  ...                   0           0   \n",
       "\n",
       "   Sushi Restaurant  Syrian Restaurant  Taco Place  Thai Restaurant  \\\n",
       "0                 0                  0           0                0   \n",
       "1                 0                  0           0                0   \n",
       "2                 0                  0           0                0   \n",
       "3                 0                  0           0                0   \n",
       "4                 0                  0           0                0   \n",
       "\n",
       "   Vegetarian / Vegan Restaurant  Vietnamese Restaurant  Wings Joint  \\\n",
       "0                              0                      0            0   \n",
       "1                              0                      0            0   \n",
       "2                              0                      0            0   \n",
       "3                              0                      0            0   \n",
       "4                              0                      0            0   \n",
       "\n",
       "   Xinjiang Restaurant  \n",
       "0                    0  \n",
       "1                    0  \n",
       "2                    0  \n",
       "3                    0  \n",
       "4                    0  \n",
       "\n",
       "[5 rows x 65 columns]"
      ]
     },
     "execution_count": 202,
     "metadata": {},
     "output_type": "execute_result"
    }
   ],
   "source": [
    "X_coded.head()"
   ]
  },
  {
   "cell_type": "code",
   "execution_count": 27,
   "metadata": {},
   "outputs": [],
   "source": [
    "#Define a function to evaluate the models, based on the input data:\n",
    "def get_model(x_tr, y_tr, x_te, y_te, color):\n",
    "    lm = LinearRegression()\n",
    "    lm.fit(x_tr, y_tr)\n",
    "    yhat = lm.predict(x_te)\n",
    "    ax1 = sns.distplot(y_te, hist = False, color = 'r', label = 'Test Values')\n",
    "    sns.distplot(yhat, hist = False, color = color, label = 'Predicted Values', ax = ax1)\n",
    "    print('MSE: ', mean_squared_error(y_te, yhat), '\\nR2 Score: ', r2_score(y_te, yhat))"
   ]
  },
  {
   "cell_type": "code",
   "execution_count": 282,
   "metadata": {},
   "outputs": [],
   "source": [
    "#Getting the baseline model\n",
    "#Split the data in training data and testing data:\n",
    "x_train, x_test, y_train, y_test = train_test_split(X_coded, Y, test_size = 0.2, random_state = 1)"
   ]
  },
  {
   "cell_type": "code",
   "execution_count": 283,
   "metadata": {},
   "outputs": [
    {
     "name": "stdout",
     "output_type": "stream",
     "text": [
      "MSE:  0.6245765758279755 \n",
      "R2 Score:  0.23268656754914796\n"
     ]
    },
    {
     "data": {
      "image/png": "[encoded data removed]",
      "text/plain": [
       "<Figure size 432x288 with 1 Axes>"
      ]
     },
     "metadata": {
      "needs_background": "light"
     },
     "output_type": "display_data"
    }
   ],
   "source": [
    "get_model(x_train, y_train, x_test, y_test, 'blue')"
   ]
  },
  {
   "cell_type": "markdown",
   "metadata": {},
   "source": [
    "The model is doing poorly with the current features, I will now add polynomial features to try to improve accuracy"
   ]
  },
  {
   "cell_type": "code",
   "execution_count": 249,
   "metadata": {},
   "outputs": [],
   "source": [
    "#Defining the polynomial feature:\n",
    "pr = PolynomialFeatures(degree = 2)"
   ]
  },
  {
   "cell_type": "code",
   "execution_count": 250,
   "metadata": {},
   "outputs": [],
   "source": [
    "#Tranforming the X training and test data:\n",
    "x_train_pr = pr.fit_transform(x_train)\n",
    "x_test_pr = pr.fit_transform(x_test)"
   ]
  },
  {
   "cell_type": "code",
   "execution_count": 251,
   "metadata": {},
   "outputs": [
    {
     "name": "stdout",
     "output_type": "stream",
     "text": [
      "MSE:  81.43805021105243 \n",
      "R2 Score:  -99.04939707626565\n"
     ]
    },
    {
     "data": {
      "image/png": "[encoded data removed]",
      "text/plain": [
       "<Figure size 432x288 with 1 Axes>"
      ]
     },
     "metadata": {
      "needs_background": "light"
     },
     "output_type": "display_data"
    }
   ],
   "source": [
    "get_model(x_train_pr, y_train, x_test_pr, y_test, 'green')"
   ]
  },
  {
   "cell_type": "markdown",
   "metadata": {},
   "source": [
    "It seems the model is too flexible including the restaurant categories. I will try a polynomial regression without using the encoded categorical values"
   ]
  },
  {
   "cell_type": "code",
   "execution_count": 252,
   "metadata": {},
   "outputs": [],
   "source": [
    "#Make a new split of the data using the X dataframe, without one hot encoding:\n",
    "x_train_nc, x_test_nc, y_train_nc, y_test_nc = train_test_split(X, Y, test_size = 0.2, random_state = 1)"
   ]
  },
  {
   "cell_type": "code",
   "execution_count": 253,
   "metadata": {},
   "outputs": [],
   "source": [
    "#Create the polynomial features on the X data frame:\n",
    "pr_2 = PolynomialFeatures(degree = 2)\n",
    "x_train_nc_pr = pr_2.fit_transform(x_train_nc)\n",
    "x_test_nc_pr = pr_2.fit_transform(x_test_nc)"
   ]
  },
  {
   "cell_type": "code",
   "execution_count": 254,
   "metadata": {},
   "outputs": [
    {
     "name": "stdout",
     "output_type": "stream",
     "text": [
      "MSE:  1.6955593187442308 \n",
      "R2 Score:  -1.0830519285244535\n"
     ]
    },
    {
     "data": {
      "image/png": "[encoded data removed]",
      "text/plain": [
       "<Figure size 432x288 with 1 Axes>"
      ]
     },
     "metadata": {
      "needs_background": "light"
     },
     "output_type": "display_data"
    }
   ],
   "source": [
    "get_model(x_train_nc_pr, y_train_nc, x_test_nc_pr, y_test_nc, 'orange')"
   ]
  },
  {
   "cell_type": "code",
   "execution_count": 317,
   "metadata": {},
   "outputs": [],
   "source": [
    "def ridge_model(x_tr, y_tr, x_ts, y_ts, alpha, color):\n",
    "    rm = Ridge(alpha = alpha)\n",
    "    rm.fit(x_tr, y_tr)\n",
    "    yhat = rm.predict(x_ts)\n",
    "    ax1 = sns.distplot(y_ts, hist = False, color = 'r', label = 'Test Values')\n",
    "    sns.distplot(yhat, hist = False, color = color, label = 'Predicted Values', ax = ax1)\n",
    "    print('MSE: ', mean_squared_error(y_ts, yhat), '\\nR2 Score: ', rm.score(x_ts, y_ts))"
   ]
  },
  {
   "cell_type": "code",
   "execution_count": 318,
   "metadata": {},
   "outputs": [
    {
     "name": "stdout",
     "output_type": "stream",
     "text": [
      "MSE:  0.6177785253389791 \n",
      "R2 Score:  0.24103820233111373\n"
     ]
    },
    {
     "data": {
      "image/png": "[encoded data removed]",
      "text/plain": [
       "<Figure size 432x288 with 1 Axes>"
      ]
     },
     "metadata": {
      "needs_background": "light"
     },
     "output_type": "display_data"
    }
   ],
   "source": [
    "#Use ridge regression\n",
    "ridge_model(x_train, y_train, x_test, y_test, 0.1, 'blue')"
   ]
  },
  {
   "cell_type": "code",
   "execution_count": 256,
   "metadata": {},
   "outputs": [],
   "source": [
    "sc = StandardScaler()"
   ]
  },
  {
   "cell_type": "code",
   "execution_count": 257,
   "metadata": {},
   "outputs": [],
   "source": [
    "x_train_sc = sc.fit_transform(x_train)\n",
    "x_test_sc =  sc.fit_transform(x_test)"
   ]
  },
  {
   "cell_type": "code",
   "execution_count": 258,
   "metadata": {},
   "outputs": [
    {
     "name": "stdout",
     "output_type": "stream",
     "text": [
      "MSE:  0.656646308044701 \n",
      "R2 Score:  0.19328781764826664\n"
     ]
    },
    {
     "data": {
      "image/png": "[encoded data removed]",
      "text/plain": [
       "<Figure size 432x288 with 1 Axes>"
      ]
     },
     "metadata": {
      "needs_background": "light"
     },
     "output_type": "display_data"
    }
   ],
   "source": [
    "get_model(x_train_sc, y_train, x_test_sc, y_test, 'cyan')"
   ]
  },
  {
   "cell_type": "code",
   "execution_count": 288,
   "metadata": {},
   "outputs": [
    {
     "name": "stdout",
     "output_type": "stream",
     "text": [
      "MSE:  0.6125431923157034 \n",
      "R2 Score:  0.2474699858906999\n"
     ]
    },
    {
     "data": {
      "image/png": "[encoded data removed]",
      "text/plain": [
       "<Figure size 432x288 with 1 Axes>"
      ]
     },
     "metadata": {
      "needs_background": "light"
     },
     "output_type": "display_data"
    }
   ],
   "source": [
    "ridge_model(x_train_sc, y_train, x_test_sc, y_test, 0.1, 'blue')"
   ]
  },
  {
   "cell_type": "markdown",
   "metadata": {},
   "source": [
    "Generate a frame with one-hot encoding on the neighbourhoods, instead of label encoding:"
   ]
  },
  {
   "cell_type": "code",
   "execution_count": 260,
   "metadata": {},
   "outputs": [],
   "source": [
    "df2 = pd.read_csv('ratings.csv')"
   ]
  },
  {
   "cell_type": "code",
   "execution_count": 322,
   "metadata": {},
   "outputs": [],
   "source": [
    "#Reuse the X_coded dataframe,dropping the nieghbourhood label encoding:\n",
    "x_onehot = X_coded.drop('nbh_num', axis = 1)"
   ]
  },
  {
   "cell_type": "code",
   "execution_count": 323,
   "metadata": {},
   "outputs": [
    {
     "data": {
      "text/html": [
       "<div>\n",
       "<style scoped>\n",
       "    .dataframe tbody tr th:only-of-type {\n",
       "        vertical-align: middle;\n",
       "    }\n",
       "\n",
       "    .dataframe tbody tr th {\n",
       "        vertical-align: top;\n",
       "    }\n",
       "\n",
       "    .dataframe thead th {\n",
       "        text-align: right;\n",
       "    }\n",
       "</style>\n",
       "<table border=\"1\" class=\"dataframe\">\n",
       "  <thead>\n",
       "    <tr style=\"text-align: right;\">\n",
       "      <th></th>\n",
       "      <th>CAD / ft²·month</th>\n",
       "      <th>Population 2016</th>\n",
       "      <th>Population density per square kilometre</th>\n",
       "      <th>Children (0-14 years)</th>\n",
       "      <th>Youth (15-24 years)</th>\n",
       "      <th>Working Age (25-54 years)</th>\n",
       "      <th>Pre-retirement (55-64 years)</th>\n",
       "      <th>Seniors (65+ years)</th>\n",
       "      <th>Older Seniors (85+ years)</th>\n",
       "      <th>After-tax income: Average amount ($)</th>\n",
       "      <th>...</th>\n",
       "      <th>Seafood Restaurant</th>\n",
       "      <th>Steakhouse</th>\n",
       "      <th>Sushi Restaurant</th>\n",
       "      <th>Syrian Restaurant</th>\n",
       "      <th>Taco Place</th>\n",
       "      <th>Thai Restaurant</th>\n",
       "      <th>Vegetarian / Vegan Restaurant</th>\n",
       "      <th>Vietnamese Restaurant</th>\n",
       "      <th>Wings Joint</th>\n",
       "      <th>Xinjiang Restaurant</th>\n",
       "    </tr>\n",
       "  </thead>\n",
       "  <tbody>\n",
       "    <tr>\n",
       "      <th>0</th>\n",
       "      <td>4.015792</td>\n",
       "      <td>33312</td>\n",
       "      <td>1117</td>\n",
       "      <td>5060</td>\n",
       "      <td>5445</td>\n",
       "      <td>13845</td>\n",
       "      <td>3990</td>\n",
       "      <td>4980</td>\n",
       "      <td>615</td>\n",
       "      <td>28066</td>\n",
       "      <td>...</td>\n",
       "      <td>0</td>\n",
       "      <td>0</td>\n",
       "      <td>0</td>\n",
       "      <td>0</td>\n",
       "      <td>0</td>\n",
       "      <td>0</td>\n",
       "      <td>0</td>\n",
       "      <td>0</td>\n",
       "      <td>0</td>\n",
       "      <td>0</td>\n",
       "    </tr>\n",
       "    <tr>\n",
       "      <th>1</th>\n",
       "      <td>4.015792</td>\n",
       "      <td>33312</td>\n",
       "      <td>1117</td>\n",
       "      <td>5060</td>\n",
       "      <td>5445</td>\n",
       "      <td>13845</td>\n",
       "      <td>3990</td>\n",
       "      <td>4980</td>\n",
       "      <td>615</td>\n",
       "      <td>28066</td>\n",
       "      <td>...</td>\n",
       "      <td>0</td>\n",
       "      <td>0</td>\n",
       "      <td>0</td>\n",
       "      <td>0</td>\n",
       "      <td>0</td>\n",
       "      <td>0</td>\n",
       "      <td>0</td>\n",
       "      <td>0</td>\n",
       "      <td>0</td>\n",
       "      <td>0</td>\n",
       "    </tr>\n",
       "    <tr>\n",
       "      <th>2</th>\n",
       "      <td>4.015792</td>\n",
       "      <td>33312</td>\n",
       "      <td>1117</td>\n",
       "      <td>5060</td>\n",
       "      <td>5445</td>\n",
       "      <td>13845</td>\n",
       "      <td>3990</td>\n",
       "      <td>4980</td>\n",
       "      <td>615</td>\n",
       "      <td>28066</td>\n",
       "      <td>...</td>\n",
       "      <td>0</td>\n",
       "      <td>0</td>\n",
       "      <td>0</td>\n",
       "      <td>0</td>\n",
       "      <td>0</td>\n",
       "      <td>0</td>\n",
       "      <td>0</td>\n",
       "      <td>0</td>\n",
       "      <td>0</td>\n",
       "      <td>0</td>\n",
       "    </tr>\n",
       "    <tr>\n",
       "      <th>3</th>\n",
       "      <td>4.015792</td>\n",
       "      <td>33312</td>\n",
       "      <td>1117</td>\n",
       "      <td>5060</td>\n",
       "      <td>5445</td>\n",
       "      <td>13845</td>\n",
       "      <td>3990</td>\n",
       "      <td>4980</td>\n",
       "      <td>615</td>\n",
       "      <td>28066</td>\n",
       "      <td>...</td>\n",
       "      <td>0</td>\n",
       "      <td>0</td>\n",
       "      <td>0</td>\n",
       "      <td>0</td>\n",
       "      <td>0</td>\n",
       "      <td>0</td>\n",
       "      <td>0</td>\n",
       "      <td>0</td>\n",
       "      <td>0</td>\n",
       "      <td>0</td>\n",
       "    </tr>\n",
       "    <tr>\n",
       "      <th>4</th>\n",
       "      <td>4.015792</td>\n",
       "      <td>33312</td>\n",
       "      <td>1117</td>\n",
       "      <td>5060</td>\n",
       "      <td>5445</td>\n",
       "      <td>13845</td>\n",
       "      <td>3990</td>\n",
       "      <td>4980</td>\n",
       "      <td>615</td>\n",
       "      <td>28066</td>\n",
       "      <td>...</td>\n",
       "      <td>0</td>\n",
       "      <td>0</td>\n",
       "      <td>0</td>\n",
       "      <td>0</td>\n",
       "      <td>0</td>\n",
       "      <td>0</td>\n",
       "      <td>0</td>\n",
       "      <td>0</td>\n",
       "      <td>0</td>\n",
       "      <td>0</td>\n",
       "    </tr>\n",
       "  </tbody>\n",
       "</table>\n",
       "<p>5 rows × 64 columns</p>\n",
       "</div>"
      ],
      "text/plain": [
       "   CAD / ft²·month  Population 2016  Population density per square kilometre  \\\n",
       "0         4.015792            33312                                     1117   \n",
       "1         4.015792            33312                                     1117   \n",
       "2         4.015792            33312                                     1117   \n",
       "3         4.015792            33312                                     1117   \n",
       "4         4.015792            33312                                     1117   \n",
       "\n",
       "   Children (0-14 years)  Youth (15-24 years)  Working Age (25-54 years)  \\\n",
       "0                   5060                 5445                      13845   \n",
       "1                   5060                 5445                      13845   \n",
       "2                   5060                 5445                      13845   \n",
       "3                   5060                 5445                      13845   \n",
       "4                   5060                 5445                      13845   \n",
       "\n",
       "   Pre-retirement (55-64 years)  Seniors (65+ years)  \\\n",
       "0                          3990                 4980   \n",
       "1                          3990                 4980   \n",
       "2                          3990                 4980   \n",
       "3                          3990                 4980   \n",
       "4                          3990                 4980   \n",
       "\n",
       "   Older Seniors (85+ years)  After-tax income: Average amount ($)  ...  \\\n",
       "0                        615                                 28066  ...   \n",
       "1                        615                                 28066  ...   \n",
       "2                        615                                 28066  ...   \n",
       "3                        615                                 28066  ...   \n",
       "4                        615                                 28066  ...   \n",
       "\n",
       "   Seafood Restaurant  Steakhouse  Sushi Restaurant  Syrian Restaurant  \\\n",
       "0                   0           0                 0                  0   \n",
       "1                   0           0                 0                  0   \n",
       "2                   0           0                 0                  0   \n",
       "3                   0           0                 0                  0   \n",
       "4                   0           0                 0                  0   \n",
       "\n",
       "   Taco Place  Thai Restaurant  Vegetarian / Vegan Restaurant  \\\n",
       "0           0                0                              0   \n",
       "1           0                0                              0   \n",
       "2           0                0                              0   \n",
       "3           0                0                              0   \n",
       "4           0                0                              0   \n",
       "\n",
       "   Vietnamese Restaurant  Wings Joint  Xinjiang Restaurant  \n",
       "0                      0            0                    0  \n",
       "1                      0            0                    0  \n",
       "2                      0            0                    0  \n",
       "3                      0            0                    0  \n",
       "4                      0            0                    0  \n",
       "\n",
       "[5 rows x 64 columns]"
      ]
     },
     "execution_count": 323,
     "metadata": {},
     "output_type": "execute_result"
    }
   ],
   "source": [
    "x_onehot.head()"
   ]
  },
  {
   "cell_type": "code",
   "execution_count": 324,
   "metadata": {},
   "outputs": [
    {
     "data": {
      "text/html": [
       "<div>\n",
       "<style scoped>\n",
       "    .dataframe tbody tr th:only-of-type {\n",
       "        vertical-align: middle;\n",
       "    }\n",
       "\n",
       "    .dataframe tbody tr th {\n",
       "        vertical-align: top;\n",
       "    }\n",
       "\n",
       "    .dataframe thead th {\n",
       "        text-align: right;\n",
       "    }\n",
       "</style>\n",
       "<table border=\"1\" class=\"dataframe\">\n",
       "  <thead>\n",
       "    <tr style=\"text-align: right;\">\n",
       "      <th></th>\n",
       "      <th>CAD / ft²·month</th>\n",
       "      <th>Population 2016</th>\n",
       "      <th>Population density per square kilometre</th>\n",
       "      <th>Children (0-14 years)</th>\n",
       "      <th>Youth (15-24 years)</th>\n",
       "      <th>Working Age (25-54 years)</th>\n",
       "      <th>Pre-retirement (55-64 years)</th>\n",
       "      <th>Seniors (65+ years)</th>\n",
       "      <th>Older Seniors (85+ years)</th>\n",
       "      <th>After-tax income: Average amount ($)</th>\n",
       "      <th>...</th>\n",
       "      <th>West Humber-Clairville</th>\n",
       "      <th>Weston</th>\n",
       "      <th>Weston-Pelham Park</th>\n",
       "      <th>Willowdale East</th>\n",
       "      <th>Woburn</th>\n",
       "      <th>Woodbine Corridor</th>\n",
       "      <th>Wychwood</th>\n",
       "      <th>Yonge-Eglinton</th>\n",
       "      <th>York University Heights</th>\n",
       "      <th>Yorkdale-Glen Park</th>\n",
       "    </tr>\n",
       "  </thead>\n",
       "  <tbody>\n",
       "    <tr>\n",
       "      <th>0</th>\n",
       "      <td>4.015792</td>\n",
       "      <td>33312</td>\n",
       "      <td>1117</td>\n",
       "      <td>5060</td>\n",
       "      <td>5445</td>\n",
       "      <td>13845</td>\n",
       "      <td>3990</td>\n",
       "      <td>4980</td>\n",
       "      <td>615</td>\n",
       "      <td>28066</td>\n",
       "      <td>...</td>\n",
       "      <td>1</td>\n",
       "      <td>0</td>\n",
       "      <td>0</td>\n",
       "      <td>0</td>\n",
       "      <td>0</td>\n",
       "      <td>0</td>\n",
       "      <td>0</td>\n",
       "      <td>0</td>\n",
       "      <td>0</td>\n",
       "      <td>0</td>\n",
       "    </tr>\n",
       "    <tr>\n",
       "      <th>1</th>\n",
       "      <td>4.015792</td>\n",
       "      <td>33312</td>\n",
       "      <td>1117</td>\n",
       "      <td>5060</td>\n",
       "      <td>5445</td>\n",
       "      <td>13845</td>\n",
       "      <td>3990</td>\n",
       "      <td>4980</td>\n",
       "      <td>615</td>\n",
       "      <td>28066</td>\n",
       "      <td>...</td>\n",
       "      <td>1</td>\n",
       "      <td>0</td>\n",
       "      <td>0</td>\n",
       "      <td>0</td>\n",
       "      <td>0</td>\n",
       "      <td>0</td>\n",
       "      <td>0</td>\n",
       "      <td>0</td>\n",
       "      <td>0</td>\n",
       "      <td>0</td>\n",
       "    </tr>\n",
       "    <tr>\n",
       "      <th>2</th>\n",
       "      <td>4.015792</td>\n",
       "      <td>33312</td>\n",
       "      <td>1117</td>\n",
       "      <td>5060</td>\n",
       "      <td>5445</td>\n",
       "      <td>13845</td>\n",
       "      <td>3990</td>\n",
       "      <td>4980</td>\n",
       "      <td>615</td>\n",
       "      <td>28066</td>\n",
       "      <td>...</td>\n",
       "      <td>1</td>\n",
       "      <td>0</td>\n",
       "      <td>0</td>\n",
       "      <td>0</td>\n",
       "      <td>0</td>\n",
       "      <td>0</td>\n",
       "      <td>0</td>\n",
       "      <td>0</td>\n",
       "      <td>0</td>\n",
       "      <td>0</td>\n",
       "    </tr>\n",
       "    <tr>\n",
       "      <th>3</th>\n",
       "      <td>4.015792</td>\n",
       "      <td>33312</td>\n",
       "      <td>1117</td>\n",
       "      <td>5060</td>\n",
       "      <td>5445</td>\n",
       "      <td>13845</td>\n",
       "      <td>3990</td>\n",
       "      <td>4980</td>\n",
       "      <td>615</td>\n",
       "      <td>28066</td>\n",
       "      <td>...</td>\n",
       "      <td>1</td>\n",
       "      <td>0</td>\n",
       "      <td>0</td>\n",
       "      <td>0</td>\n",
       "      <td>0</td>\n",
       "      <td>0</td>\n",
       "      <td>0</td>\n",
       "      <td>0</td>\n",
       "      <td>0</td>\n",
       "      <td>0</td>\n",
       "    </tr>\n",
       "    <tr>\n",
       "      <th>4</th>\n",
       "      <td>4.015792</td>\n",
       "      <td>33312</td>\n",
       "      <td>1117</td>\n",
       "      <td>5060</td>\n",
       "      <td>5445</td>\n",
       "      <td>13845</td>\n",
       "      <td>3990</td>\n",
       "      <td>4980</td>\n",
       "      <td>615</td>\n",
       "      <td>28066</td>\n",
       "      <td>...</td>\n",
       "      <td>1</td>\n",
       "      <td>0</td>\n",
       "      <td>0</td>\n",
       "      <td>0</td>\n",
       "      <td>0</td>\n",
       "      <td>0</td>\n",
       "      <td>0</td>\n",
       "      <td>0</td>\n",
       "      <td>0</td>\n",
       "      <td>0</td>\n",
       "    </tr>\n",
       "  </tbody>\n",
       "</table>\n",
       "<p>5 rows × 141 columns</p>\n",
       "</div>"
      ],
      "text/plain": [
       "   CAD / ft²·month  Population 2016  Population density per square kilometre  \\\n",
       "0         4.015792            33312                                     1117   \n",
       "1         4.015792            33312                                     1117   \n",
       "2         4.015792            33312                                     1117   \n",
       "3         4.015792            33312                                     1117   \n",
       "4         4.015792            33312                                     1117   \n",
       "\n",
       "   Children (0-14 years)  Youth (15-24 years)  Working Age (25-54 years)  \\\n",
       "0                   5060                 5445                      13845   \n",
       "1                   5060                 5445                      13845   \n",
       "2                   5060                 5445                      13845   \n",
       "3                   5060                 5445                      13845   \n",
       "4                   5060                 5445                      13845   \n",
       "\n",
       "   Pre-retirement (55-64 years)  Seniors (65+ years)  \\\n",
       "0                          3990                 4980   \n",
       "1                          3990                 4980   \n",
       "2                          3990                 4980   \n",
       "3                          3990                 4980   \n",
       "4                          3990                 4980   \n",
       "\n",
       "   Older Seniors (85+ years)  After-tax income: Average amount ($)  ...  \\\n",
       "0                        615                                 28066  ...   \n",
       "1                        615                                 28066  ...   \n",
       "2                        615                                 28066  ...   \n",
       "3                        615                                 28066  ...   \n",
       "4                        615                                 28066  ...   \n",
       "\n",
       "   West Humber-Clairville  Weston  Weston-Pelham Park  Willowdale East  \\\n",
       "0                       1       0                   0                0   \n",
       "1                       1       0                   0                0   \n",
       "2                       1       0                   0                0   \n",
       "3                       1       0                   0                0   \n",
       "4                       1       0                   0                0   \n",
       "\n",
       "   Woburn  Woodbine Corridor  Wychwood  Yonge-Eglinton  \\\n",
       "0       0                  0         0               0   \n",
       "1       0                  0         0               0   \n",
       "2       0                  0         0               0   \n",
       "3       0                  0         0               0   \n",
       "4       0                  0         0               0   \n",
       "\n",
       "   York University Heights  Yorkdale-Glen Park  \n",
       "0                        0                   0  \n",
       "1                        0                   0  \n",
       "2                        0                   0  \n",
       "3                        0                   0  \n",
       "4                        0                   0  \n",
       "\n",
       "[5 rows x 141 columns]"
      ]
     },
     "execution_count": 324,
     "metadata": {},
     "output_type": "execute_result"
    }
   ],
   "source": [
    "x_onehot = x_onehot.join(pd.get_dummies(df2[['Neighbourhood']], prefix=\"\", prefix_sep=\"\"))\n",
    "x_onehot.head()"
   ]
  },
  {
   "cell_type": "code",
   "execution_count": 325,
   "metadata": {},
   "outputs": [],
   "source": [
    "#Split the one hot encoded dataframe:\n",
    "x_train_oh, x_test_oh, y_train_oh, y_test_oh = train_test_split(x_onehot, Y, test_size = 0.2, random_state = 1)"
   ]
  },
  {
   "cell_type": "code",
   "execution_count": 326,
   "metadata": {},
   "outputs": [
    {
     "name": "stdout",
     "output_type": "stream",
     "text": [
      "MSE:  850485688616088.0 \n",
      "R2 Score:  -1044850412645120.0\n"
     ]
    },
    {
     "data": {
      "image/png": "[encoded data removed]",
      "text/plain": [
       "<Figure size 432x288 with 1 Axes>"
      ]
     },
     "metadata": {
      "needs_background": "light"
     },
     "output_type": "display_data"
    }
   ],
   "source": [
    "get_model(x_train_oh, y_train_oh, x_test_oh, y_test_oh, 'slateblue')"
   ]
  },
  {
   "cell_type": "code",
   "execution_count": 343,
   "metadata": {},
   "outputs": [
    {
     "name": "stdout",
     "output_type": "stream",
     "text": [
      "MSE:  0.5584768787817405 \n",
      "R2 Score:  0.31389227936642483\n"
     ]
    },
    {
     "data": {
      "image/png": "[encoded data removed]",
      "text/plain": [
       "<Figure size 432x288 with 1 Axes>"
      ]
     },
     "metadata": {
      "needs_background": "light"
     },
     "output_type": "display_data"
    }
   ],
   "source": [
    "ridge_model(x_train_oh, y_train_oh, x_test_oh, y_test_oh, 0.1, 'slateblue')"
   ]
  },
  {
   "cell_type": "markdown",
   "metadata": {},
   "source": [
    "Using ridge regression with all categorical data encoded using one-hot encoding has improved the model. I will now use gridsearch to get the best estimator."
   ]
  },
  {
   "cell_type": "code",
   "execution_count": 344,
   "metadata": {},
   "outputs": [
    {
     "data": {
      "text/plain": [
       "[{'alpha': [0.01, 0.1, 1, 1.5, 2, 2.5, 3, 3.5, 4.0, 4.5, 5.0, 5.5, 6.0, 6.5]}]"
      ]
     },
     "execution_count": 344,
     "metadata": {},
     "output_type": "execute_result"
    }
   ],
   "source": [
    "parameters1= [{'alpha': [0.01,0.1,1, 1.5, 2, 2.5, 3, 3.5, 4.0, 4.5, 5.0, 5.5, 6.0, 6.5]}]\n",
    "parameters1"
   ]
  },
  {
   "cell_type": "code",
   "execution_count": 345,
   "metadata": {},
   "outputs": [],
   "source": [
    "RR = Ridge()\n",
    "Grid1 = GridSearchCV(RR, parameters1, cv = 4)"
   ]
  },
  {
   "cell_type": "code",
   "execution_count": 346,
   "metadata": {},
   "outputs": [
    {
     "data": {
      "text/plain": [
       "GridSearchCV(cv=4, estimator=Ridge(),\n",
       "             param_grid=[{'alpha': [0.01, 0.1, 1, 1.5, 2, 2.5, 3, 3.5, 4.0, 4.5,\n",
       "                                    5.0, 5.5, 6.0, 6.5]}])"
      ]
     },
     "execution_count": 346,
     "metadata": {},
     "output_type": "execute_result"
    }
   ],
   "source": [
    "Grid1.fit(x_train_oh, y_train_oh)"
   ]
  },
  {
   "cell_type": "code",
   "execution_count": 350,
   "metadata": {},
   "outputs": [
    {
     "data": {
      "text/plain": [
       "Ridge(alpha=1.5)"
      ]
     },
     "execution_count": 350,
     "metadata": {},
     "output_type": "execute_result"
    }
   ],
   "source": [
    "BestRR = Grid1.best_estimator_\n",
    "BestRR"
   ]
  },
  {
   "cell_type": "code",
   "execution_count": 348,
   "metadata": {},
   "outputs": [
    {
     "data": {
      "text/plain": [
       "0.47620729667136563"
      ]
     },
     "execution_count": 348,
     "metadata": {},
     "output_type": "execute_result"
    }
   ],
   "source": [
    "BestRR.score(x_test_oh, y_test_oh)"
   ]
  },
  {
   "cell_type": "code",
   "execution_count": 352,
   "metadata": {},
   "outputs": [
    {
     "name": "stdout",
     "output_type": "stream",
     "text": [
      "MSE:  0.42635595736118126 \n",
      "R2 Score:  0.47620729667136563\n"
     ]
    },
    {
     "data": {
      "image/png": "[encoded data removed]",
      "text/plain": [
       "<Figure size 432x288 with 1 Axes>"
      ]
     },
     "metadata": {
      "needs_background": "light"
     },
     "output_type": "display_data"
    }
   ],
   "source": [
    "ridge_model(x_train_oh, y_train_oh, x_test_oh, y_test_oh, 1.5, 'darkgreen')"
   ]
  },
  {
   "cell_type": "markdown",
   "metadata": {},
   "source": [
    "Let's make a prediction for a particular neighbourhood and restaurant category:"
   ]
  },
  {
   "cell_type": "code",
   "execution_count": 374,
   "metadata": {},
   "outputs": [
    {
     "ename": "SyntaxError",
     "evalue": "unexpected EOF while parsing (<ipython-input-374-1944de7955f1>, line 2)",
     "output_type": "error",
     "traceback": [
      "\u001b[1;36m  File \u001b[1;32m\"<ipython-input-374-1944de7955f1>\"\u001b[1;36m, line \u001b[1;32m2\u001b[0m\n\u001b[1;33m    \u001b[0m\n\u001b[1;37m    ^\u001b[0m\n\u001b[1;31mSyntaxError\u001b[0m\u001b[1;31m:\u001b[0m unexpected EOF while parsing\n"
     ]
    }
   ],
   "source": [
    "def get_prediction_array(nbh_number, category):\n",
    "    "
   ]
  },
  {
   "cell_type": "code",
   "execution_count": 371,
   "metadata": {},
   "outputs": [
    {
     "data": {
      "text/plain": [
       "array([[7.14867158]])"
      ]
     },
     "execution_count": 371,
     "metadata": {},
     "output_type": "execute_result"
    }
   ],
   "source": [
    "BestRR.predict(np.array(x_test_oh.loc[58,:]).reshape(1,-1))"
   ]
  },
  {
   "cell_type": "code",
   "execution_count": 370,
   "metadata": {},
   "outputs": [
    {
     "data": {
      "text/plain": [
       "array([[1.5000e+00, 1.6934e+04, 3.1480e+03, 2.1150e+03, 2.1700e+03,\n",
       "        6.0600e+03, 2.2650e+03, 4.3050e+03, 6.3000e+02, 3.4203e+04,\n",
       "        0.0000e+00, 0.0000e+00, 0.0000e+00, 0.0000e+00, 0.0000e+00,\n",
       "        0.0000e+00, 0.0000e+00, 0.0000e+00, 0.0000e+00, 0.0000e+00,\n",
       "        0.0000e+00, 1.0000e+00, 0.0000e+00, 0.0000e+00, 0.0000e+00,\n",
       "        0.0000e+00, 0.0000e+00, 0.0000e+00, 0.0000e+00, 0.0000e+00,\n",
       "        0.0000e+00, 0.0000e+00, 0.0000e+00, 0.0000e+00, 0.0000e+00,\n",
       "        0.0000e+00, 0.0000e+00, 0.0000e+00, 0.0000e+00, 0.0000e+00,\n",
       "        0.0000e+00, 0.0000e+00, 0.0000e+00, 0.0000e+00, 0.0000e+00,\n",
       "        0.0000e+00, 0.0000e+00, 0.0000e+00, 0.0000e+00, 0.0000e+00,\n",
       "        0.0000e+00, 0.0000e+00, 0.0000e+00, 0.0000e+00, 0.0000e+00,\n",
       "        0.0000e+00, 0.0000e+00, 0.0000e+00, 0.0000e+00, 0.0000e+00,\n",
       "        0.0000e+00, 0.0000e+00, 0.0000e+00, 0.0000e+00, 0.0000e+00,\n",
       "        0.0000e+00, 0.0000e+00, 0.0000e+00, 0.0000e+00, 0.0000e+00,\n",
       "        0.0000e+00, 0.0000e+00, 0.0000e+00, 0.0000e+00, 0.0000e+00,\n",
       "        0.0000e+00, 0.0000e+00, 0.0000e+00, 0.0000e+00, 0.0000e+00,\n",
       "        0.0000e+00, 0.0000e+00, 0.0000e+00, 0.0000e+00, 0.0000e+00,\n",
       "        0.0000e+00, 0.0000e+00, 0.0000e+00, 0.0000e+00, 0.0000e+00,\n",
       "        0.0000e+00, 1.0000e+00, 0.0000e+00, 0.0000e+00, 0.0000e+00,\n",
       "        0.0000e+00, 0.0000e+00, 0.0000e+00, 0.0000e+00, 0.0000e+00,\n",
       "        0.0000e+00, 0.0000e+00, 0.0000e+00, 0.0000e+00, 0.0000e+00,\n",
       "        0.0000e+00, 0.0000e+00, 0.0000e+00, 0.0000e+00, 0.0000e+00,\n",
       "        0.0000e+00, 0.0000e+00, 0.0000e+00, 0.0000e+00, 0.0000e+00,\n",
       "        0.0000e+00, 0.0000e+00, 0.0000e+00, 0.0000e+00, 0.0000e+00,\n",
       "        0.0000e+00, 0.0000e+00, 0.0000e+00, 0.0000e+00, 0.0000e+00,\n",
       "        0.0000e+00, 0.0000e+00, 0.0000e+00, 0.0000e+00, 0.0000e+00,\n",
       "        0.0000e+00, 0.0000e+00, 0.0000e+00, 0.0000e+00, 0.0000e+00,\n",
       "        0.0000e+00, 0.0000e+00, 0.0000e+00, 0.0000e+00, 0.0000e+00,\n",
       "        0.0000e+00]])"
      ]
     },
     "execution_count": 370,
     "metadata": {},
     "output_type": "execute_result"
    }
   ],
   "source": [
    "np.array(x_test_oh.loc[58,:]).reshape(1,-1)"
   ]
  },
  {
   "cell_type": "code",
   "execution_count": 375,
   "metadata": {},
   "outputs": [
    {
     "ename": "KeyError",
     "evalue": "('nbh_num', 'Neighbourhood')",
     "output_type": "error",
     "traceback": [
      "\u001b[1;31m---------------------------------------------------------------------------\u001b[0m",
      "\u001b[1;31mKeyError\u001b[0m                                  Traceback (most recent call last)",
      "\u001b[1;32mH:\\Users\\Valhala\\anaconda3\\lib\\site-packages\\pandas\\core\\indexes\\base.py\u001b[0m in \u001b[0;36mget_loc\u001b[1;34m(self, key, method, tolerance)\u001b[0m\n\u001b[0;32m   2645\u001b[0m             \u001b[1;32mtry\u001b[0m\u001b[1;33m:\u001b[0m\u001b[1;33m\u001b[0m\u001b[1;33m\u001b[0m\u001b[0m\n\u001b[1;32m-> 2646\u001b[1;33m                 \u001b[1;32mreturn\u001b[0m \u001b[0mself\u001b[0m\u001b[1;33m.\u001b[0m\u001b[0m_engine\u001b[0m\u001b[1;33m.\u001b[0m\u001b[0mget_loc\u001b[0m\u001b[1;33m(\u001b[0m\u001b[0mkey\u001b[0m\u001b[1;33m)\u001b[0m\u001b[1;33m\u001b[0m\u001b[1;33m\u001b[0m\u001b[0m\n\u001b[0m\u001b[0;32m   2647\u001b[0m             \u001b[1;32mexcept\u001b[0m \u001b[0mKeyError\u001b[0m\u001b[1;33m:\u001b[0m\u001b[1;33m\u001b[0m\u001b[1;33m\u001b[0m\u001b[0m\n",
      "\u001b[1;32mpandas\\_libs\\index.pyx\u001b[0m in \u001b[0;36mpandas._libs.index.IndexEngine.get_loc\u001b[1;34m()\u001b[0m\n",
      "\u001b[1;32mpandas\\_libs\\index.pyx\u001b[0m in \u001b[0;36mpandas._libs.index.IndexEngine.get_loc\u001b[1;34m()\u001b[0m\n",
      "\u001b[1;32mpandas\\_libs\\hashtable_class_helper.pxi\u001b[0m in \u001b[0;36mpandas._libs.hashtable.PyObjectHashTable.get_item\u001b[1;34m()\u001b[0m\n",
      "\u001b[1;32mpandas\\_libs\\hashtable_class_helper.pxi\u001b[0m in \u001b[0;36mpandas._libs.hashtable.PyObjectHashTable.get_item\u001b[1;34m()\u001b[0m\n",
      "\u001b[1;31mKeyError\u001b[0m: ('nbh_num', 'Neighbourhood')",
      "\nDuring handling of the above exception, another exception occurred:\n",
      "\u001b[1;31mKeyError\u001b[0m                                  Traceback (most recent call last)",
      "\u001b[1;32m<ipython-input-375-4806272c46ed>\u001b[0m in \u001b[0;36m<module>\u001b[1;34m\u001b[0m\n\u001b[1;32m----> 1\u001b[1;33m \u001b[0mdf\u001b[0m\u001b[1;33m[\u001b[0m\u001b[0mdf\u001b[0m\u001b[1;33m[\u001b[0m\u001b[1;34m'nbh_num'\u001b[0m\u001b[1;33m,\u001b[0m \u001b[1;34m'Neighbourhood'\u001b[0m\u001b[1;33m]\u001b[0m\u001b[1;33m]\u001b[0m\u001b[1;33m\u001b[0m\u001b[1;33m\u001b[0m\u001b[0m\n\u001b[0m",
      "\u001b[1;32mH:\\Users\\Valhala\\anaconda3\\lib\\site-packages\\pandas\\core\\frame.py\u001b[0m in \u001b[0;36m__getitem__\u001b[1;34m(self, key)\u001b[0m\n\u001b[0;32m   2798\u001b[0m             \u001b[1;32mif\u001b[0m \u001b[0mself\u001b[0m\u001b[1;33m.\u001b[0m\u001b[0mcolumns\u001b[0m\u001b[1;33m.\u001b[0m\u001b[0mnlevels\u001b[0m \u001b[1;33m>\u001b[0m \u001b[1;36m1\u001b[0m\u001b[1;33m:\u001b[0m\u001b[1;33m\u001b[0m\u001b[1;33m\u001b[0m\u001b[0m\n\u001b[0;32m   2799\u001b[0m                 \u001b[1;32mreturn\u001b[0m \u001b[0mself\u001b[0m\u001b[1;33m.\u001b[0m\u001b[0m_getitem_multilevel\u001b[0m\u001b[1;33m(\u001b[0m\u001b[0mkey\u001b[0m\u001b[1;33m)\u001b[0m\u001b[1;33m\u001b[0m\u001b[1;33m\u001b[0m\u001b[0m\n\u001b[1;32m-> 2800\u001b[1;33m             \u001b[0mindexer\u001b[0m \u001b[1;33m=\u001b[0m \u001b[0mself\u001b[0m\u001b[1;33m.\u001b[0m\u001b[0mcolumns\u001b[0m\u001b[1;33m.\u001b[0m\u001b[0mget_loc\u001b[0m\u001b[1;33m(\u001b[0m\u001b[0mkey\u001b[0m\u001b[1;33m)\u001b[0m\u001b[1;33m\u001b[0m\u001b[1;33m\u001b[0m\u001b[0m\n\u001b[0m\u001b[0;32m   2801\u001b[0m             \u001b[1;32mif\u001b[0m \u001b[0mis_integer\u001b[0m\u001b[1;33m(\u001b[0m\u001b[0mindexer\u001b[0m\u001b[1;33m)\u001b[0m\u001b[1;33m:\u001b[0m\u001b[1;33m\u001b[0m\u001b[1;33m\u001b[0m\u001b[0m\n\u001b[0;32m   2802\u001b[0m                 \u001b[0mindexer\u001b[0m \u001b[1;33m=\u001b[0m \u001b[1;33m[\u001b[0m\u001b[0mindexer\u001b[0m\u001b[1;33m]\u001b[0m\u001b[1;33m\u001b[0m\u001b[1;33m\u001b[0m\u001b[0m\n",
      "\u001b[1;32mH:\\Users\\Valhala\\anaconda3\\lib\\site-packages\\pandas\\core\\indexes\\base.py\u001b[0m in \u001b[0;36mget_loc\u001b[1;34m(self, key, method, tolerance)\u001b[0m\n\u001b[0;32m   2646\u001b[0m                 \u001b[1;32mreturn\u001b[0m \u001b[0mself\u001b[0m\u001b[1;33m.\u001b[0m\u001b[0m_engine\u001b[0m\u001b[1;33m.\u001b[0m\u001b[0mget_loc\u001b[0m\u001b[1;33m(\u001b[0m\u001b[0mkey\u001b[0m\u001b[1;33m)\u001b[0m\u001b[1;33m\u001b[0m\u001b[1;33m\u001b[0m\u001b[0m\n\u001b[0;32m   2647\u001b[0m             \u001b[1;32mexcept\u001b[0m \u001b[0mKeyError\u001b[0m\u001b[1;33m:\u001b[0m\u001b[1;33m\u001b[0m\u001b[1;33m\u001b[0m\u001b[0m\n\u001b[1;32m-> 2648\u001b[1;33m                 \u001b[1;32mreturn\u001b[0m \u001b[0mself\u001b[0m\u001b[1;33m.\u001b[0m\u001b[0m_engine\u001b[0m\u001b[1;33m.\u001b[0m\u001b[0mget_loc\u001b[0m\u001b[1;33m(\u001b[0m\u001b[0mself\u001b[0m\u001b[1;33m.\u001b[0m\u001b[0m_maybe_cast_indexer\u001b[0m\u001b[1;33m(\u001b[0m\u001b[0mkey\u001b[0m\u001b[1;33m)\u001b[0m\u001b[1;33m)\u001b[0m\u001b[1;33m\u001b[0m\u001b[1;33m\u001b[0m\u001b[0m\n\u001b[0m\u001b[0;32m   2649\u001b[0m         \u001b[0mindexer\u001b[0m \u001b[1;33m=\u001b[0m \u001b[0mself\u001b[0m\u001b[1;33m.\u001b[0m\u001b[0mget_indexer\u001b[0m\u001b[1;33m(\u001b[0m\u001b[1;33m[\u001b[0m\u001b[0mkey\u001b[0m\u001b[1;33m]\u001b[0m\u001b[1;33m,\u001b[0m \u001b[0mmethod\u001b[0m\u001b[1;33m=\u001b[0m\u001b[0mmethod\u001b[0m\u001b[1;33m,\u001b[0m \u001b[0mtolerance\u001b[0m\u001b[1;33m=\u001b[0m\u001b[0mtolerance\u001b[0m\u001b[1;33m)\u001b[0m\u001b[1;33m\u001b[0m\u001b[1;33m\u001b[0m\u001b[0m\n\u001b[0;32m   2650\u001b[0m         \u001b[1;32mif\u001b[0m \u001b[0mindexer\u001b[0m\u001b[1;33m.\u001b[0m\u001b[0mndim\u001b[0m \u001b[1;33m>\u001b[0m \u001b[1;36m1\u001b[0m \u001b[1;32mor\u001b[0m \u001b[0mindexer\u001b[0m\u001b[1;33m.\u001b[0m\u001b[0msize\u001b[0m \u001b[1;33m>\u001b[0m \u001b[1;36m1\u001b[0m\u001b[1;33m:\u001b[0m\u001b[1;33m\u001b[0m\u001b[1;33m\u001b[0m\u001b[0m\n",
      "\u001b[1;32mpandas\\_libs\\index.pyx\u001b[0m in \u001b[0;36mpandas._libs.index.IndexEngine.get_loc\u001b[1;34m()\u001b[0m\n",
      "\u001b[1;32mpandas\\_libs\\index.pyx\u001b[0m in \u001b[0;36mpandas._libs.index.IndexEngine.get_loc\u001b[1;34m()\u001b[0m\n",
      "\u001b[1;32mpandas\\_libs\\hashtable_class_helper.pxi\u001b[0m in \u001b[0;36mpandas._libs.hashtable.PyObjectHashTable.get_item\u001b[1;34m()\u001b[0m\n",
      "\u001b[1;32mpandas\\_libs\\hashtable_class_helper.pxi\u001b[0m in \u001b[0;36mpandas._libs.hashtable.PyObjectHashTable.get_item\u001b[1;34m()\u001b[0m\n",
      "\u001b[1;31mKeyError\u001b[0m: ('nbh_num', 'Neighbourhood')"
     ]
    }
   ],
   "source": [
    "df[df['nbh_num', 'Neighbourhood']]"
   ]
  },
  {
   "cell_type": "code",
   "execution_count": null,
   "metadata": {},
   "outputs": [],
   "source": []
  }
 ],
 "metadata": {
  "kernelspec": {
   "display_name": "Python 3",
   "language": "python",
   "name": "python3"
  },
  "language_info": {
   "codemirror_mode": {
    "name": "ipython",
    "version": 3
   },
   "file_extension": ".py",
   "mimetype": "text/x-python",
   "name": "python",
   "nbconvert_exporter": "python",
   "pygments_lexer": "ipython3",
   "version": "3.8.3"
  }
 },
 "nbformat": 4,
 "nbformat_minor": 4
}
